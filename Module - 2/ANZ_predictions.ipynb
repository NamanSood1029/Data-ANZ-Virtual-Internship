{
 "cells": [
  {
   "cell_type": "markdown",
   "metadata": {},
   "source": [
    "<h1>Predictive Analysis on the ANZ transaction dataset</h1>"
   ]
  },
  {
   "cell_type": "markdown",
   "metadata": {},
   "source": [
    "<h2>Introduction</h2>"
   ]
  },
  {
   "cell_type": "markdown",
   "metadata": {},
   "source": [
    "This document will aim to aquire, pre-process and the clean the ANZ transaction dataset so that it is ready for a predictive model. We will then apply the fundamental and core machine learning models, check feature importances, fine-tune the models and present our findings."
   ]
  },
  {
   "cell_type": "markdown",
   "metadata": {},
   "source": [
    "<h3>Necessary imports for analysis and predictive modeling</h3>"
   ]
  },
  {
   "cell_type": "code",
   "execution_count": 279,
   "metadata": {},
   "outputs": [],
   "source": [
    "import pandas as pd\n",
    "import matplotlib.pyplot as plt\n",
    "import seaborn as sns\n",
    "import numpy as np\n",
    "%matplotlib inline\n",
    "import warnings\n",
    "import sklearn\n",
    "warnings.filterwarnings('ignore')\n",
    "from collections import Counter\n",
    "import scipy.stats as ss\n",
    "import dython\n",
    "from dython.nominal import associations\n",
    "from sklearn.preprocessing import MinMaxScaler\n",
    "from sklearn.ensemble import RandomForestRegressor\n",
    "from sklearn.model_selection import cross_validate, train_test_split\n",
    "from xgboost import XGBRegressor\n",
    "from sklearn.metrics import mean_squared_error\n",
    "from sklearn.linear_model import LinearRegression\n",
    "from sklearn.ensemble import RandomForestRegressor, AdaBoostRegressor, GradientBoostingRegressor, ExtraTreesRegressor\n",
    "from sklearn.neighbors import KNeighborsRegressor\n",
    "from sklearn.tree import DecisionTreeRegressor\n",
    "from sklearn.neural_network import MLPRegressor\n",
    "from sklearn.model_selection import GridSearchCV, cross_val_score\n",
    "from sklearn.tree import export_graphviz\n",
    "from sklearn.externals.six import StringIO  \n",
    "from IPython.display import Image\n",
    "from subprocess import check_call"
   ]
  },
  {
   "cell_type": "markdown",
   "metadata": {},
   "source": [
    "<h3>The machine learning pipeline</h3>\n",
    "\n"
   ]
  },
  {
   "cell_type": "markdown",
   "metadata": {},
   "source": [
    "<b>We will be going over the following steps</b>\n",
    "<ul>\n",
    "<li>Data aquisition</li>\n",
    "<li>Data pre-processing</li>\n",
    "<li>Data cleaning</li>\n",
    "<li>Predictive modeling</li>\n",
    "<li>Hyperparameter tuning</li>\n",
    "</ul>"
   ]
  },
  {
   "cell_type": "markdown",
   "metadata": {},
   "source": [
    "<h2>Data Aquisition</h2>"
   ]
  },
  {
   "cell_type": "code",
   "execution_count": 280,
   "metadata": {},
   "outputs": [],
   "source": [
    "df = pd.read_excel('ANZ_predictions.xlsx',sheet_name=0, header=0, names=None, index_col=None, usecols=None, squeeze=False, dtype=None, engine=None, converters=None, true_values=None, false_values=None, skiprows=None, nrows=None, na_values=None, keep_default_na=True, verbose=False, parse_dates=False)"
   ]
  },
  {
   "cell_type": "markdown",
   "metadata": {},
   "source": [
    "<h2>Data pre-processing</h2>"
   ]
  },
  {
   "cell_type": "markdown",
   "metadata": {},
   "source": [
    "<h3>Shape of the dataset</h3>"
   ]
  },
  {
   "cell_type": "code",
   "execution_count": 281,
   "metadata": {},
   "outputs": [
    {
     "data": {
      "text/plain": [
       "(12043, 23)"
      ]
     },
     "execution_count": 281,
     "metadata": {},
     "output_type": "execute_result"
    }
   ],
   "source": [
    "df.shape"
   ]
  },
  {
   "cell_type": "markdown",
   "metadata": {},
   "source": [
    "<h3>Datatypes of all the columns/features</h3>"
   ]
  },
  {
   "cell_type": "code",
   "execution_count": 282,
   "metadata": {},
   "outputs": [
    {
     "data": {
      "text/plain": [
       "status                       object\n",
       "card_present_flag           float64\n",
       "bpay_biller_code             object\n",
       "account                      object\n",
       "currency                     object\n",
       "long_lat                     object\n",
       "txn_description              object\n",
       "merchant_id                  object\n",
       "merchant_code               float64\n",
       "first_name                   object\n",
       "balance                     float64\n",
       "date                 datetime64[ns]\n",
       "gender                       object\n",
       "age                           int64\n",
       "merchant_suburb              object\n",
       "merchant_state               object\n",
       "extraction                   object\n",
       "amount                      float64\n",
       "transaction_id               object\n",
       "country                      object\n",
       "customer_id                  object\n",
       "merchant_long_lat            object\n",
       "movement                     object\n",
       "dtype: object"
      ]
     },
     "execution_count": 282,
     "metadata": {},
     "output_type": "execute_result"
    }
   ],
   "source": [
    "df.dtypes"
   ]
  },
  {
   "cell_type": "markdown",
   "metadata": {},
   "source": [
    "<h3>Null/Missing values</h3>"
   ]
  },
  {
   "cell_type": "code",
   "execution_count": 283,
   "metadata": {},
   "outputs": [
    {
     "data": {
      "text/plain": [
       "status                   0\n",
       "card_present_flag     4326\n",
       "bpay_biller_code     11158\n",
       "account                  0\n",
       "currency                 0\n",
       "long_lat                 0\n",
       "txn_description          0\n",
       "merchant_id           4326\n",
       "merchant_code        11160\n",
       "first_name               0\n",
       "balance                  0\n",
       "date                     0\n",
       "gender                   0\n",
       "age                      0\n",
       "merchant_suburb       4326\n",
       "merchant_state        4326\n",
       "extraction               0\n",
       "amount                   0\n",
       "transaction_id           0\n",
       "country                  0\n",
       "customer_id              0\n",
       "merchant_long_lat     4326\n",
       "movement                 0\n",
       "dtype: int64"
      ]
     },
     "execution_count": 283,
     "metadata": {},
     "output_type": "execute_result"
    }
   ],
   "source": [
    "df.isnull().sum()"
   ]
  },
  {
   "cell_type": "markdown",
   "metadata": {},
   "source": [
    "<h3>Summary statistics</h3>"
   ]
  },
  {
   "cell_type": "code",
   "execution_count": 284,
   "metadata": {},
   "outputs": [
    {
     "data": {
      "text/html": [
       "<div>\n",
       "<style scoped>\n",
       "    .dataframe tbody tr th:only-of-type {\n",
       "        vertical-align: middle;\n",
       "    }\n",
       "\n",
       "    .dataframe tbody tr th {\n",
       "        vertical-align: top;\n",
       "    }\n",
       "\n",
       "    .dataframe thead th {\n",
       "        text-align: right;\n",
       "    }\n",
       "</style>\n",
       "<table border=\"1\" class=\"dataframe\">\n",
       "  <thead>\n",
       "    <tr style=\"text-align: right;\">\n",
       "      <th></th>\n",
       "      <th>card_present_flag</th>\n",
       "      <th>merchant_code</th>\n",
       "      <th>balance</th>\n",
       "      <th>age</th>\n",
       "      <th>amount</th>\n",
       "    </tr>\n",
       "  </thead>\n",
       "  <tbody>\n",
       "    <tr>\n",
       "      <td>count</td>\n",
       "      <td>7717.000000</td>\n",
       "      <td>883.0</td>\n",
       "      <td>12043.000000</td>\n",
       "      <td>12043.000000</td>\n",
       "      <td>12043.000000</td>\n",
       "    </tr>\n",
       "    <tr>\n",
       "      <td>mean</td>\n",
       "      <td>0.802644</td>\n",
       "      <td>0.0</td>\n",
       "      <td>14704.195553</td>\n",
       "      <td>30.582330</td>\n",
       "      <td>187.933588</td>\n",
       "    </tr>\n",
       "    <tr>\n",
       "      <td>std</td>\n",
       "      <td>0.398029</td>\n",
       "      <td>0.0</td>\n",
       "      <td>31503.722652</td>\n",
       "      <td>10.046343</td>\n",
       "      <td>592.599934</td>\n",
       "    </tr>\n",
       "    <tr>\n",
       "      <td>min</td>\n",
       "      <td>0.000000</td>\n",
       "      <td>0.0</td>\n",
       "      <td>0.240000</td>\n",
       "      <td>18.000000</td>\n",
       "      <td>0.100000</td>\n",
       "    </tr>\n",
       "    <tr>\n",
       "      <td>25%</td>\n",
       "      <td>1.000000</td>\n",
       "      <td>0.0</td>\n",
       "      <td>3158.585000</td>\n",
       "      <td>22.000000</td>\n",
       "      <td>16.000000</td>\n",
       "    </tr>\n",
       "    <tr>\n",
       "      <td>50%</td>\n",
       "      <td>1.000000</td>\n",
       "      <td>0.0</td>\n",
       "      <td>6432.010000</td>\n",
       "      <td>28.000000</td>\n",
       "      <td>29.000000</td>\n",
       "    </tr>\n",
       "    <tr>\n",
       "      <td>75%</td>\n",
       "      <td>1.000000</td>\n",
       "      <td>0.0</td>\n",
       "      <td>12465.945000</td>\n",
       "      <td>38.000000</td>\n",
       "      <td>53.655000</td>\n",
       "    </tr>\n",
       "    <tr>\n",
       "      <td>max</td>\n",
       "      <td>1.000000</td>\n",
       "      <td>0.0</td>\n",
       "      <td>267128.520000</td>\n",
       "      <td>78.000000</td>\n",
       "      <td>8835.980000</td>\n",
       "    </tr>\n",
       "  </tbody>\n",
       "</table>\n",
       "</div>"
      ],
      "text/plain": [
       "       card_present_flag  merchant_code        balance           age  \\\n",
       "count        7717.000000          883.0   12043.000000  12043.000000   \n",
       "mean            0.802644            0.0   14704.195553     30.582330   \n",
       "std             0.398029            0.0   31503.722652     10.046343   \n",
       "min             0.000000            0.0       0.240000     18.000000   \n",
       "25%             1.000000            0.0    3158.585000     22.000000   \n",
       "50%             1.000000            0.0    6432.010000     28.000000   \n",
       "75%             1.000000            0.0   12465.945000     38.000000   \n",
       "max             1.000000            0.0  267128.520000     78.000000   \n",
       "\n",
       "             amount  \n",
       "count  12043.000000  \n",
       "mean     187.933588  \n",
       "std      592.599934  \n",
       "min        0.100000  \n",
       "25%       16.000000  \n",
       "50%       29.000000  \n",
       "75%       53.655000  \n",
       "max     8835.980000  "
      ]
     },
     "execution_count": 284,
     "metadata": {},
     "output_type": "execute_result"
    }
   ],
   "source": [
    "df.describe()"
   ]
  },
  {
   "cell_type": "markdown",
   "metadata": {},
   "source": [
    "<h3>Correlation matrix/heatmap for all features</h3>"
   ]
  },
  {
   "cell_type": "markdown",
   "metadata": {},
   "source": [
    "Here, we proceed to ignore certain columns due to the following reasons\n",
    "<ul>\n",
    "    <li>Currency and country are the same for all values in the dataset</li>\n",
    "    <li>Transaction ID is unique therefore it provides no insight or support for the machine learning model</li>\n",
    "    <li>The merchant_code only has missing values or the value 0, therefore providing no additional information</li>\n",
    "    <li>There is not much use of a complete date, we will find correlations with the month and day instead</li>"
   ]
  },
  {
   "cell_type": "code",
   "execution_count": 285,
   "metadata": {
    "scrolled": true
   },
   "outputs": [
    {
     "data": {
      "image/png": "[encoded data removed]",
      "text/plain": [
       "<Figure size 1440x1440 with 2 Axes>"
      ]
     },
     "metadata": {
      "needs_background": "light"
     },
     "output_type": "display_data"
    },
    {
     "data": {
      "text/plain": [
       "{'corr':                      status  card_present_flag  bpay_biller_code   account  \\\n",
       " status             1.000000           0.770484          0.000000  0.383121   \n",
       " card_present_flag  0.770484           1.000000          0.012524  0.311925   \n",
       " bpay_biller_code   0.000000           0.012524          1.000000  0.046736   \n",
       " account            0.383121           0.311925          0.046736  1.000000   \n",
       " long_lat           0.383121           0.311925          0.046736  1.000000   \n",
       " txn_description    0.999834           0.770499          0.000000  0.266220   \n",
       " merchant_id        0.724309           0.945228          0.724340  0.000000   \n",
       " first_name         0.345659           0.281359          0.062011  0.999164   \n",
       " balance            0.120117          -0.090053          0.004681  0.993991   \n",
       " gender             0.058843           0.046738          0.000000  0.995922   \n",
       " age                0.070495          -0.058345          0.002373  1.000000   \n",
       " merchant_suburb    0.930836           0.822654          0.000000  0.247438   \n",
       " merchant_state     0.999709           0.770816          0.000000  0.528113   \n",
       " extraction         0.464480           0.999875          0.464790  0.000000   \n",
       " amount             0.333083          -0.256903          0.003601  0.168276   \n",
       " customer_id        0.383121           0.311925          0.046736  1.000000   \n",
       " merchant_long_lat  0.880682           0.855744          0.000000  0.211480   \n",
       " movement           0.375263           0.289463          0.000000  0.173184   \n",
       " \n",
       "                    long_lat  txn_description  merchant_id  first_name  \\\n",
       " status             0.383121         0.999834     0.724309    0.345659   \n",
       " card_present_flag  0.311925         0.770499     0.945228    0.281359   \n",
       " bpay_biller_code   0.046736         0.000000     0.724340    0.062011   \n",
       " account            1.000000         0.266220     0.000000    0.999164   \n",
       " long_lat           1.000000         0.266220     0.000000    0.999164   \n",
       " txn_description    0.266220         1.000000     0.000000    0.241838   \n",
       " merchant_id        0.000000         0.000000     1.000000    0.000000   \n",
       " first_name         0.999164         0.241838     0.000000    1.000000   \n",
       " balance            0.993991         0.138545     0.604582    0.966522   \n",
       " gender             0.995922         0.071158     0.220803    0.996756   \n",
       " age                1.000000         0.079241     0.671512    0.926328   \n",
       " merchant_suburb    0.247438         0.331195     0.778128    0.253966   \n",
       " merchant_state     0.528113         0.446772     0.724520    0.458866   \n",
       " extraction         0.000000         0.000000     0.778479    0.000000   \n",
       " amount             0.168276         0.812665     0.387477    0.152773   \n",
       " customer_id        1.000000         0.266220     0.000000    0.999164   \n",
       " merchant_long_lat  0.211480         0.213607     0.822442    0.213811   \n",
       " movement           0.173184         0.999834     0.000000    0.144458   \n",
       " \n",
       "                     balance    gender       age  merchant_suburb  \\\n",
       " status             0.120117  0.058843  0.070495         0.930836   \n",
       " card_present_flag -0.090053  0.046738 -0.058345         0.822654   \n",
       " bpay_biller_code   0.004681  0.000000  0.002373         0.000000   \n",
       " account            0.993991  0.995922  1.000000         0.247438   \n",
       " long_lat           0.993991  0.995922  1.000000         0.247438   \n",
       " txn_description    0.138545  0.071158  0.079241         0.331195   \n",
       " merchant_id        0.604582  0.220803  0.671512         0.778128   \n",
       " first_name         0.966522  0.996756  0.926328         0.253966   \n",
       " balance            1.000000  0.080302  0.199329         0.377586   \n",
       " gender             0.080302  1.000000  0.011584         0.294367   \n",
       " age                0.199329  0.011584  1.000000         0.428516   \n",
       " merchant_suburb    0.377586  0.294367  0.428516         1.000000   \n",
       " merchant_state     0.174299  0.173493  0.156740         0.912408   \n",
       " extraction         0.814649  0.000000  0.848572         0.499125   \n",
       " amount             0.059178  0.031362  0.029980         0.341507   \n",
       " customer_id        0.993991  0.995922  1.000000         0.247438   \n",
       " merchant_long_lat  0.451158  0.283465  0.507382         0.892917   \n",
       " movement           0.013739  0.000000  0.057389         0.086762   \n",
       " \n",
       "                    merchant_state  extraction    amount  customer_id  \\\n",
       " status                   0.999709    0.464480  0.333083     0.383121   \n",
       " card_present_flag        0.770816    0.999875 -0.256903     0.311925   \n",
       " bpay_biller_code         0.000000    0.464790  0.003601     0.046736   \n",
       " account                  0.528113    0.000000  0.168276     1.000000   \n",
       " long_lat                 0.528113    0.000000  0.168276     1.000000   \n",
       " txn_description          0.446772    0.000000  0.812665     0.266220   \n",
       " merchant_id              0.724520    0.778479  0.387477     0.000000   \n",
       " first_name               0.458866    0.000000  0.152773     0.999164   \n",
       " balance                  0.174299    0.814649  0.059178     0.993991   \n",
       " gender                   0.173493    0.000000  0.031362     0.995922   \n",
       " age                      0.156740    0.848572  0.029980     1.000000   \n",
       " merchant_suburb          0.912408    0.499125  0.341507     0.247438   \n",
       " merchant_state           1.000000    0.464791  0.333195     0.528113   \n",
       " extraction               0.464791    1.000000  0.735818     0.000000   \n",
       " amount                   0.333195    0.735818  1.000000     0.168276   \n",
       " customer_id              0.528113    0.000000  0.168276     1.000000   \n",
       " merchant_long_lat        0.880844    0.534960  0.349981     0.211480   \n",
       " movement                 0.374820    0.000000  0.812087     0.173184   \n",
       " \n",
       "                    merchant_long_lat  movement  \n",
       " status                      0.880682  0.375263  \n",
       " card_present_flag           0.855744  0.289463  \n",
       " bpay_biller_code            0.000000  0.000000  \n",
       " account                     0.211480  0.173184  \n",
       " long_lat                    0.211480  0.173184  \n",
       " txn_description             0.213607  0.999834  \n",
       " merchant_id                 0.822442  0.000000  \n",
       " first_name                  0.213811  0.144458  \n",
       " balance                     0.451158  0.013739  \n",
       " gender                      0.283465  0.000000  \n",
       " age                         0.507382  0.057389  \n",
       " merchant_suburb             0.892917  0.086762  \n",
       " merchant_state              0.880844  0.374820  \n",
       " extraction                  0.534960  0.000000  \n",
       " amount                      0.349981  0.812087  \n",
       " customer_id                 0.211480  0.173184  \n",
       " merchant_long_lat           1.000000  0.000000  \n",
       " movement                    0.000000  1.000000  ,\n",
       " 'ax': <matplotlib.axes._subplots.AxesSubplot at 0x2713aeec8c8>}"
      ]
     },
     "execution_count": 285,
     "metadata": {},
     "output_type": "execute_result"
    }
   ],
   "source": [
    "cols = [col for col in df.columns if col not in ['date', 'merchant_code','currency','country','transaction_id']]\n",
    "associations(df[cols],figsize=(20,20))"
   ]
  },
  {
   "cell_type": "markdown",
   "metadata": {},
   "source": [
    "<h3>Unique values in each column</h3>"
   ]
  },
  {
   "cell_type": "code",
   "execution_count": 286,
   "metadata": {},
   "outputs": [
    {
     "data": {
      "text/plain": [
       "status                   2\n",
       "card_present_flag        2\n",
       "bpay_biller_code         3\n",
       "account                100\n",
       "currency                 1\n",
       "long_lat               100\n",
       "txn_description          6\n",
       "merchant_id           5725\n",
       "merchant_code            1\n",
       "first_name              80\n",
       "balance              12006\n",
       "date                    91\n",
       "gender                   2\n",
       "age                     33\n",
       "merchant_suburb       1609\n",
       "merchant_state           8\n",
       "extraction            9442\n",
       "amount                4457\n",
       "transaction_id       12043\n",
       "country                  1\n",
       "customer_id            100\n",
       "merchant_long_lat     2703\n",
       "movement                 2\n",
       "dtype: int64"
      ]
     },
     "execution_count": 286,
     "metadata": {},
     "output_type": "execute_result"
    }
   ],
   "source": [
    "df.nunique()"
   ]
  },
  {
   "cell_type": "markdown",
   "metadata": {},
   "source": [
    "<h3>Dropping irrelevant columns</h3>"
   ]
  },
  {
   "cell_type": "markdown",
   "metadata": {},
   "source": [
    "We proceed to drop the following columns\n",
    "<ul>\n",
    "    <li>Currency and country only have a single value for the entire data-set</li>\n",
    "    <li>Transaction_id is a unique value for each transaction/record therefore it is of no use to us</li>\n",
    "    <li>merchant_code and bpay_biller_code only have NULL or 0 as their value</li>\n",
    "    </ul>"
   ]
  },
  {
   "cell_type": "code",
   "execution_count": 287,
   "metadata": {},
   "outputs": [],
   "source": [
    "df.drop(['currency','country','transaction_id','merchant_code','bpay_biller_code'],axis=1,inplace=True)"
   ]
  },
  {
   "cell_type": "markdown",
   "metadata": {},
   "source": [
    "<h3>Calculating the annual salary of each unique customer</h3>"
   ]
  },
  {
   "cell_type": "code",
   "execution_count": 288,
   "metadata": {},
   "outputs": [],
   "source": [
    "df1 = df[df['txn_description']=='PAY/SALARY']"
   ]
  },
  {
   "cell_type": "code",
   "execution_count": 289,
   "metadata": {},
   "outputs": [
    {
     "data": {
      "text/plain": [
       "status                 1\n",
       "card_present_flag      0\n",
       "account              100\n",
       "long_lat             100\n",
       "txn_description        1\n",
       "merchant_id            0\n",
       "first_name            80\n",
       "balance              883\n",
       "date                  65\n",
       "gender                 2\n",
       "age                   33\n",
       "merchant_suburb        0\n",
       "merchant_state         0\n",
       "extraction           394\n",
       "amount               100\n",
       "customer_id          100\n",
       "merchant_long_lat      0\n",
       "movement               1\n",
       "dtype: int64"
      ]
     },
     "execution_count": 289,
     "metadata": {},
     "output_type": "execute_result"
    }
   ],
   "source": [
    "df1.nunique()"
   ]
  },
  {
   "cell_type": "markdown",
   "metadata": {},
   "source": [
    "We proceed to drop columns that are completely full of NULL values for the `txn_description` of PAY/SALARY"
   ]
  },
  {
   "cell_type": "code",
   "execution_count": 290,
   "metadata": {},
   "outputs": [],
   "source": [
    "df1.dropna(axis=1,inplace=True)"
   ]
  },
  {
   "cell_type": "markdown",
   "metadata": {},
   "source": [
    "The following columns are irrelevant to our predictions for annual salary\n",
    "<ul>\n",
    "    <li>Status, movement and txn_description have a single value for the entire set</li>\n",
    "    <li>First_name only consists of 80 values while the number of customers are 100</li>\n",
    "    <li>Extraction feature holds no significance towards calculating annual salary</li>\n",
    "    </ul>"
   ]
  },
  {
   "cell_type": "code",
   "execution_count": 291,
   "metadata": {},
   "outputs": [],
   "source": [
    "df1.drop(['status','txn_description','movement','extraction','long_lat','first_name','account'],axis=1,inplace=True)"
   ]
  },
  {
   "cell_type": "code",
   "execution_count": 292,
   "metadata": {},
   "outputs": [
    {
     "data": {
      "text/plain": [
       "balance        883\n",
       "date            65\n",
       "gender           2\n",
       "age             33\n",
       "amount         100\n",
       "customer_id    100\n",
       "dtype: int64"
      ]
     },
     "execution_count": 292,
     "metadata": {},
     "output_type": "execute_result"
    }
   ],
   "source": [
    "df1.nunique()"
   ]
  },
  {
   "cell_type": "markdown",
   "metadata": {},
   "source": [
    "We proceed to create new columns for day and month by parsing the `date` dataset which was of datatype `datetime`"
   ]
  },
  {
   "cell_type": "code",
   "execution_count": 293,
   "metadata": {},
   "outputs": [],
   "source": [
    "df1['day'] = df1['date'].dt.day\n",
    "df1['month'] = df1['date'].dt.month"
   ]
  },
  {
   "cell_type": "markdown",
   "metadata": {},
   "source": [
    "Grouping the dataset in terms of customer_id and month"
   ]
  },
  {
   "cell_type": "code",
   "execution_count": 294,
   "metadata": {},
   "outputs": [],
   "source": [
    "df2 = df1.groupby(['customer_id','month']).amount.mean()"
   ]
  },
  {
   "cell_type": "code",
   "execution_count": 295,
   "metadata": {},
   "outputs": [
    {
     "data": {
      "text/plain": [
       "customer_id     month\n",
       "CUS-1005756958  8         970.47\n",
       "                9         970.47\n",
       "                10        970.47\n",
       "CUS-1117979751  8        3578.65\n",
       "                9        3578.65\n",
       "                          ...   \n",
       "CUS-880898248   9        1433.98\n",
       "                10       1433.98\n",
       "CUS-883482547   8        3977.46\n",
       "                9        3977.46\n",
       "                10       3977.46\n",
       "Name: amount, Length: 296, dtype: float64"
      ]
     },
     "execution_count": 295,
     "metadata": {},
     "output_type": "execute_result"
    }
   ],
   "source": [
    "df2"
   ]
  },
  {
   "cell_type": "markdown",
   "metadata": {},
   "source": [
    "Calculating the mean amount (salary per month) of each customer through grouping by `customer_id` and taking the mean value of each id. We then multiply it by 12 to get the final `annual_salary` column"
   ]
  },
  {
   "cell_type": "code",
   "execution_count": 296,
   "metadata": {},
   "outputs": [],
   "source": [
    "df3 = df1.groupby(['customer_id']).amount.mean()"
   ]
  },
  {
   "cell_type": "code",
   "execution_count": 297,
   "metadata": {},
   "outputs": [],
   "source": [
    "df1.set_index('customer_id',inplace=True)"
   ]
  },
  {
   "cell_type": "code",
   "execution_count": 298,
   "metadata": {},
   "outputs": [],
   "source": [
    "df1['annual_salary'] = df3"
   ]
  },
  {
   "cell_type": "code",
   "execution_count": 299,
   "metadata": {},
   "outputs": [],
   "source": [
    "df1['annual_salary'] = df1['annual_salary']*12"
   ]
  },
  {
   "cell_type": "code",
   "execution_count": 300,
   "metadata": {},
   "outputs": [
    {
     "data": {
      "text/html": [
       "<div>\n",
       "<style scoped>\n",
       "    .dataframe tbody tr th:only-of-type {\n",
       "        vertical-align: middle;\n",
       "    }\n",
       "\n",
       "    .dataframe tbody tr th {\n",
       "        vertical-align: top;\n",
       "    }\n",
       "\n",
       "    .dataframe thead th {\n",
       "        text-align: right;\n",
       "    }\n",
       "</style>\n",
       "<table border=\"1\" class=\"dataframe\">\n",
       "  <thead>\n",
       "    <tr style=\"text-align: right;\">\n",
       "      <th></th>\n",
       "      <th>balance</th>\n",
       "      <th>date</th>\n",
       "      <th>gender</th>\n",
       "      <th>age</th>\n",
       "      <th>amount</th>\n",
       "      <th>day</th>\n",
       "      <th>month</th>\n",
       "      <th>annual_salary</th>\n",
       "    </tr>\n",
       "    <tr>\n",
       "      <th>customer_id</th>\n",
       "      <th></th>\n",
       "      <th></th>\n",
       "      <th></th>\n",
       "      <th></th>\n",
       "      <th></th>\n",
       "      <th></th>\n",
       "      <th></th>\n",
       "      <th></th>\n",
       "    </tr>\n",
       "  </thead>\n",
       "  <tbody>\n",
       "    <tr>\n",
       "      <td>CUS-1462656821</td>\n",
       "      <td>8342.11</td>\n",
       "      <td>2018-08-01</td>\n",
       "      <td>M</td>\n",
       "      <td>23</td>\n",
       "      <td>3903.95</td>\n",
       "      <td>1</td>\n",
       "      <td>8</td>\n",
       "      <td>46847.40</td>\n",
       "    </tr>\n",
       "    <tr>\n",
       "      <td>CUS-2500783281</td>\n",
       "      <td>2040.58</td>\n",
       "      <td>2018-08-01</td>\n",
       "      <td>F</td>\n",
       "      <td>23</td>\n",
       "      <td>1626.48</td>\n",
       "      <td>1</td>\n",
       "      <td>8</td>\n",
       "      <td>19517.76</td>\n",
       "    </tr>\n",
       "    <tr>\n",
       "      <td>CUS-326006476</td>\n",
       "      <td>3158.51</td>\n",
       "      <td>2018-08-01</td>\n",
       "      <td>M</td>\n",
       "      <td>22</td>\n",
       "      <td>983.36</td>\n",
       "      <td>1</td>\n",
       "      <td>8</td>\n",
       "      <td>11800.32</td>\n",
       "    </tr>\n",
       "    <tr>\n",
       "      <td>CUS-1433879684</td>\n",
       "      <td>2517.66</td>\n",
       "      <td>2018-08-01</td>\n",
       "      <td>M</td>\n",
       "      <td>24</td>\n",
       "      <td>1408.08</td>\n",
       "      <td>1</td>\n",
       "      <td>8</td>\n",
       "      <td>16896.96</td>\n",
       "    </tr>\n",
       "    <tr>\n",
       "      <td>CUS-4123612273</td>\n",
       "      <td>2271.79</td>\n",
       "      <td>2018-08-01</td>\n",
       "      <td>F</td>\n",
       "      <td>43</td>\n",
       "      <td>1068.04</td>\n",
       "      <td>1</td>\n",
       "      <td>8</td>\n",
       "      <td>12816.48</td>\n",
       "    </tr>\n",
       "  </tbody>\n",
       "</table>\n",
       "</div>"
      ],
      "text/plain": [
       "                balance       date gender  age   amount  day  month  \\\n",
       "customer_id                                                           \n",
       "CUS-1462656821  8342.11 2018-08-01      M   23  3903.95    1      8   \n",
       "CUS-2500783281  2040.58 2018-08-01      F   23  1626.48    1      8   \n",
       "CUS-326006476   3158.51 2018-08-01      M   22   983.36    1      8   \n",
       "CUS-1433879684  2517.66 2018-08-01      M   24  1408.08    1      8   \n",
       "CUS-4123612273  2271.79 2018-08-01      F   43  1068.04    1      8   \n",
       "\n",
       "                annual_salary  \n",
       "customer_id                    \n",
       "CUS-1462656821       46847.40  \n",
       "CUS-2500783281       19517.76  \n",
       "CUS-326006476        11800.32  \n",
       "CUS-1433879684       16896.96  \n",
       "CUS-4123612273       12816.48  "
      ]
     },
     "execution_count": 300,
     "metadata": {},
     "output_type": "execute_result"
    }
   ],
   "source": [
    "df1.head()"
   ]
  },
  {
   "cell_type": "markdown",
   "metadata": {},
   "source": [
    "Dropping columns which are now irrelevant to our predictions. The date of recieving salary <b>does not influence the amount that the customer earns as it is a fixed value</b>. Bank balance is also not an indicator of how much salary would a customer recieve."
   ]
  },
  {
   "cell_type": "code",
   "execution_count": 301,
   "metadata": {},
   "outputs": [],
   "source": [
    "df1.drop(['balance','date','day','month'],axis=1,inplace=True)"
   ]
  },
  {
   "cell_type": "code",
   "execution_count": 302,
   "metadata": {},
   "outputs": [
    {
     "data": {
      "text/html": [
       "<div>\n",
       "<style scoped>\n",
       "    .dataframe tbody tr th:only-of-type {\n",
       "        vertical-align: middle;\n",
       "    }\n",
       "\n",
       "    .dataframe tbody tr th {\n",
       "        vertical-align: top;\n",
       "    }\n",
       "\n",
       "    .dataframe thead th {\n",
       "        text-align: right;\n",
       "    }\n",
       "</style>\n",
       "<table border=\"1\" class=\"dataframe\">\n",
       "  <thead>\n",
       "    <tr style=\"text-align: right;\">\n",
       "      <th></th>\n",
       "      <th>gender</th>\n",
       "      <th>age</th>\n",
       "      <th>amount</th>\n",
       "      <th>annual_salary</th>\n",
       "    </tr>\n",
       "    <tr>\n",
       "      <th>customer_id</th>\n",
       "      <th></th>\n",
       "      <th></th>\n",
       "      <th></th>\n",
       "      <th></th>\n",
       "    </tr>\n",
       "  </thead>\n",
       "  <tbody>\n",
       "    <tr>\n",
       "      <td>CUS-1462656821</td>\n",
       "      <td>M</td>\n",
       "      <td>23</td>\n",
       "      <td>3903.95</td>\n",
       "      <td>46847.40</td>\n",
       "    </tr>\n",
       "    <tr>\n",
       "      <td>CUS-2500783281</td>\n",
       "      <td>F</td>\n",
       "      <td>23</td>\n",
       "      <td>1626.48</td>\n",
       "      <td>19517.76</td>\n",
       "    </tr>\n",
       "    <tr>\n",
       "      <td>CUS-326006476</td>\n",
       "      <td>M</td>\n",
       "      <td>22</td>\n",
       "      <td>983.36</td>\n",
       "      <td>11800.32</td>\n",
       "    </tr>\n",
       "    <tr>\n",
       "      <td>CUS-1433879684</td>\n",
       "      <td>M</td>\n",
       "      <td>24</td>\n",
       "      <td>1408.08</td>\n",
       "      <td>16896.96</td>\n",
       "    </tr>\n",
       "    <tr>\n",
       "      <td>CUS-4123612273</td>\n",
       "      <td>F</td>\n",
       "      <td>43</td>\n",
       "      <td>1068.04</td>\n",
       "      <td>12816.48</td>\n",
       "    </tr>\n",
       "    <tr>\n",
       "      <td>...</td>\n",
       "      <td>...</td>\n",
       "      <td>...</td>\n",
       "      <td>...</td>\n",
       "      <td>...</td>\n",
       "    </tr>\n",
       "    <tr>\n",
       "      <td>CUS-1646621553</td>\n",
       "      <td>M</td>\n",
       "      <td>26</td>\n",
       "      <td>1098.91</td>\n",
       "      <td>13186.92</td>\n",
       "    </tr>\n",
       "    <tr>\n",
       "      <td>CUS-1271030853</td>\n",
       "      <td>F</td>\n",
       "      <td>30</td>\n",
       "      <td>1158.15</td>\n",
       "      <td>13897.80</td>\n",
       "    </tr>\n",
       "    <tr>\n",
       "      <td>CUS-1388323263</td>\n",
       "      <td>M</td>\n",
       "      <td>69</td>\n",
       "      <td>1043.12</td>\n",
       "      <td>12517.44</td>\n",
       "    </tr>\n",
       "    <tr>\n",
       "      <td>CUS-164374203</td>\n",
       "      <td>F</td>\n",
       "      <td>20</td>\n",
       "      <td>1395.49</td>\n",
       "      <td>16745.88</td>\n",
       "    </tr>\n",
       "    <tr>\n",
       "      <td>CUS-2317998716</td>\n",
       "      <td>M</td>\n",
       "      <td>19</td>\n",
       "      <td>2639.76</td>\n",
       "      <td>31677.12</td>\n",
       "    </tr>\n",
       "  </tbody>\n",
       "</table>\n",
       "<p>883 rows × 4 columns</p>\n",
       "</div>"
      ],
      "text/plain": [
       "               gender  age   amount  annual_salary\n",
       "customer_id                                       \n",
       "CUS-1462656821      M   23  3903.95       46847.40\n",
       "CUS-2500783281      F   23  1626.48       19517.76\n",
       "CUS-326006476       M   22   983.36       11800.32\n",
       "CUS-1433879684      M   24  1408.08       16896.96\n",
       "CUS-4123612273      F   43  1068.04       12816.48\n",
       "...               ...  ...      ...            ...\n",
       "CUS-1646621553      M   26  1098.91       13186.92\n",
       "CUS-1271030853      F   30  1158.15       13897.80\n",
       "CUS-1388323263      M   69  1043.12       12517.44\n",
       "CUS-164374203       F   20  1395.49       16745.88\n",
       "CUS-2317998716      M   19  2639.76       31677.12\n",
       "\n",
       "[883 rows x 4 columns]"
      ]
     },
     "execution_count": 302,
     "metadata": {},
     "output_type": "execute_result"
    }
   ],
   "source": [
    "df1"
   ]
  },
  {
   "cell_type": "code",
   "execution_count": 303,
   "metadata": {},
   "outputs": [],
   "source": [
    "df_i = df.set_index('customer_id')"
   ]
  },
  {
   "cell_type": "markdown",
   "metadata": {},
   "source": [
    "<h3>Calculating the type and count of transactions made by each customer</h3>"
   ]
  },
  {
   "cell_type": "markdown",
   "metadata": {},
   "source": [
    "We one-hot encode the `txn_description` column, group according to customer ID and sum the columns individually."
   ]
  },
  {
   "cell_type": "code",
   "execution_count": 304,
   "metadata": {},
   "outputs": [
    {
     "data": {
      "text/html": [
       "<div>\n",
       "<style scoped>\n",
       "    .dataframe tbody tr th:only-of-type {\n",
       "        vertical-align: middle;\n",
       "    }\n",
       "\n",
       "    .dataframe tbody tr th {\n",
       "        vertical-align: top;\n",
       "    }\n",
       "\n",
       "    .dataframe thead th {\n",
       "        text-align: right;\n",
       "    }\n",
       "</style>\n",
       "<table border=\"1\" class=\"dataframe\">\n",
       "  <thead>\n",
       "    <tr style=\"text-align: right;\">\n",
       "      <th></th>\n",
       "      <th>INTER BANK</th>\n",
       "      <th>PAY/SALARY</th>\n",
       "      <th>PAYMENT</th>\n",
       "      <th>PHONE BANK</th>\n",
       "      <th>POS</th>\n",
       "      <th>SALES-POS</th>\n",
       "    </tr>\n",
       "    <tr>\n",
       "      <th>customer_id</th>\n",
       "      <th></th>\n",
       "      <th></th>\n",
       "      <th></th>\n",
       "      <th></th>\n",
       "      <th></th>\n",
       "      <th></th>\n",
       "    </tr>\n",
       "  </thead>\n",
       "  <tbody>\n",
       "    <tr>\n",
       "      <td>CUS-2487424745</td>\n",
       "      <td>0</td>\n",
       "      <td>0</td>\n",
       "      <td>0</td>\n",
       "      <td>0</td>\n",
       "      <td>1</td>\n",
       "      <td>0</td>\n",
       "    </tr>\n",
       "    <tr>\n",
       "      <td>CUS-2487424745</td>\n",
       "      <td>0</td>\n",
       "      <td>0</td>\n",
       "      <td>0</td>\n",
       "      <td>0</td>\n",
       "      <td>0</td>\n",
       "      <td>1</td>\n",
       "    </tr>\n",
       "    <tr>\n",
       "      <td>CUS-2142601169</td>\n",
       "      <td>0</td>\n",
       "      <td>0</td>\n",
       "      <td>0</td>\n",
       "      <td>0</td>\n",
       "      <td>1</td>\n",
       "      <td>0</td>\n",
       "    </tr>\n",
       "    <tr>\n",
       "      <td>CUS-1614226872</td>\n",
       "      <td>0</td>\n",
       "      <td>0</td>\n",
       "      <td>0</td>\n",
       "      <td>0</td>\n",
       "      <td>0</td>\n",
       "      <td>1</td>\n",
       "    </tr>\n",
       "    <tr>\n",
       "      <td>CUS-2487424745</td>\n",
       "      <td>0</td>\n",
       "      <td>0</td>\n",
       "      <td>0</td>\n",
       "      <td>0</td>\n",
       "      <td>0</td>\n",
       "      <td>1</td>\n",
       "    </tr>\n",
       "    <tr>\n",
       "      <td>...</td>\n",
       "      <td>...</td>\n",
       "      <td>...</td>\n",
       "      <td>...</td>\n",
       "      <td>...</td>\n",
       "      <td>...</td>\n",
       "      <td>...</td>\n",
       "    </tr>\n",
       "    <tr>\n",
       "      <td>CUS-55310383</td>\n",
       "      <td>0</td>\n",
       "      <td>0</td>\n",
       "      <td>0</td>\n",
       "      <td>0</td>\n",
       "      <td>1</td>\n",
       "      <td>0</td>\n",
       "    </tr>\n",
       "    <tr>\n",
       "      <td>CUS-2688605418</td>\n",
       "      <td>0</td>\n",
       "      <td>0</td>\n",
       "      <td>0</td>\n",
       "      <td>0</td>\n",
       "      <td>0</td>\n",
       "      <td>1</td>\n",
       "    </tr>\n",
       "    <tr>\n",
       "      <td>CUS-2663907001</td>\n",
       "      <td>0</td>\n",
       "      <td>0</td>\n",
       "      <td>0</td>\n",
       "      <td>0</td>\n",
       "      <td>1</td>\n",
       "      <td>0</td>\n",
       "    </tr>\n",
       "    <tr>\n",
       "      <td>CUS-1388323263</td>\n",
       "      <td>0</td>\n",
       "      <td>0</td>\n",
       "      <td>0</td>\n",
       "      <td>0</td>\n",
       "      <td>0</td>\n",
       "      <td>1</td>\n",
       "    </tr>\n",
       "    <tr>\n",
       "      <td>CUS-3129499595</td>\n",
       "      <td>0</td>\n",
       "      <td>0</td>\n",
       "      <td>0</td>\n",
       "      <td>0</td>\n",
       "      <td>0</td>\n",
       "      <td>1</td>\n",
       "    </tr>\n",
       "  </tbody>\n",
       "</table>\n",
       "<p>12043 rows × 6 columns</p>\n",
       "</div>"
      ],
      "text/plain": [
       "                INTER BANK  PAY/SALARY  PAYMENT  PHONE BANK  POS  SALES-POS\n",
       "customer_id                                                                \n",
       "CUS-2487424745           0           0        0           0    1          0\n",
       "CUS-2487424745           0           0        0           0    0          1\n",
       "CUS-2142601169           0           0        0           0    1          0\n",
       "CUS-1614226872           0           0        0           0    0          1\n",
       "CUS-2487424745           0           0        0           0    0          1\n",
       "...                    ...         ...      ...         ...  ...        ...\n",
       "CUS-55310383             0           0        0           0    1          0\n",
       "CUS-2688605418           0           0        0           0    0          1\n",
       "CUS-2663907001           0           0        0           0    1          0\n",
       "CUS-1388323263           0           0        0           0    0          1\n",
       "CUS-3129499595           0           0        0           0    0          1\n",
       "\n",
       "[12043 rows x 6 columns]"
      ]
     },
     "execution_count": 304,
     "metadata": {},
     "output_type": "execute_result"
    }
   ],
   "source": [
    "df_1 = pd.get_dummies(df_i['txn_description'])\n",
    "df_1"
   ]
  },
  {
   "cell_type": "code",
   "execution_count": 305,
   "metadata": {},
   "outputs": [],
   "source": [
    "df_1.reset_index(inplace=True)"
   ]
  },
  {
   "cell_type": "code",
   "execution_count": 306,
   "metadata": {
    "scrolled": false
   },
   "outputs": [
    {
     "data": {
      "text/html": [
       "<div>\n",
       "<style scoped>\n",
       "    .dataframe tbody tr th:only-of-type {\n",
       "        vertical-align: middle;\n",
       "    }\n",
       "\n",
       "    .dataframe tbody tr th {\n",
       "        vertical-align: top;\n",
       "    }\n",
       "\n",
       "    .dataframe thead th {\n",
       "        text-align: right;\n",
       "    }\n",
       "</style>\n",
       "<table border=\"1\" class=\"dataframe\">\n",
       "  <thead>\n",
       "    <tr style=\"text-align: right;\">\n",
       "      <th></th>\n",
       "      <th>INTER BANK</th>\n",
       "      <th>PAY/SALARY</th>\n",
       "      <th>PAYMENT</th>\n",
       "      <th>PHONE BANK</th>\n",
       "      <th>POS</th>\n",
       "      <th>SALES-POS</th>\n",
       "    </tr>\n",
       "    <tr>\n",
       "      <th>customer_id</th>\n",
       "      <th></th>\n",
       "      <th></th>\n",
       "      <th></th>\n",
       "      <th></th>\n",
       "      <th></th>\n",
       "      <th></th>\n",
       "    </tr>\n",
       "  </thead>\n",
       "  <tbody>\n",
       "    <tr>\n",
       "      <td>CUS-1005756958</td>\n",
       "      <td>0.0</td>\n",
       "      <td>13.0</td>\n",
       "      <td>9.0</td>\n",
       "      <td>3.0</td>\n",
       "      <td>26.0</td>\n",
       "      <td>22.0</td>\n",
       "    </tr>\n",
       "    <tr>\n",
       "      <td>CUS-1117979751</td>\n",
       "      <td>1.0</td>\n",
       "      <td>7.0</td>\n",
       "      <td>40.0</td>\n",
       "      <td>0.0</td>\n",
       "      <td>26.0</td>\n",
       "      <td>26.0</td>\n",
       "    </tr>\n",
       "    <tr>\n",
       "      <td>CUS-1140341822</td>\n",
       "      <td>3.0</td>\n",
       "      <td>6.0</td>\n",
       "      <td>6.0</td>\n",
       "      <td>0.0</td>\n",
       "      <td>39.0</td>\n",
       "      <td>26.0</td>\n",
       "    </tr>\n",
       "    <tr>\n",
       "      <td>CUS-1147642491</td>\n",
       "      <td>2.0</td>\n",
       "      <td>13.0</td>\n",
       "      <td>27.0</td>\n",
       "      <td>0.0</td>\n",
       "      <td>38.0</td>\n",
       "      <td>38.0</td>\n",
       "    </tr>\n",
       "    <tr>\n",
       "      <td>CUS-1196156254</td>\n",
       "      <td>5.0</td>\n",
       "      <td>7.0</td>\n",
       "      <td>70.0</td>\n",
       "      <td>0.0</td>\n",
       "      <td>74.0</td>\n",
       "      <td>89.0</td>\n",
       "    </tr>\n",
       "    <tr>\n",
       "      <td>...</td>\n",
       "      <td>...</td>\n",
       "      <td>...</td>\n",
       "      <td>...</td>\n",
       "      <td>...</td>\n",
       "      <td>...</td>\n",
       "      <td>...</td>\n",
       "    </tr>\n",
       "    <tr>\n",
       "      <td>CUS-72755508</td>\n",
       "      <td>0.0</td>\n",
       "      <td>12.0</td>\n",
       "      <td>1.0</td>\n",
       "      <td>0.0</td>\n",
       "      <td>14.0</td>\n",
       "      <td>31.0</td>\n",
       "    </tr>\n",
       "    <tr>\n",
       "      <td>CUS-809013380</td>\n",
       "      <td>1.0</td>\n",
       "      <td>13.0</td>\n",
       "      <td>22.0</td>\n",
       "      <td>0.0</td>\n",
       "      <td>51.0</td>\n",
       "      <td>37.0</td>\n",
       "    </tr>\n",
       "    <tr>\n",
       "      <td>CUS-860700529</td>\n",
       "      <td>3.0</td>\n",
       "      <td>6.0</td>\n",
       "      <td>15.0</td>\n",
       "      <td>3.0</td>\n",
       "      <td>97.0</td>\n",
       "      <td>109.0</td>\n",
       "    </tr>\n",
       "    <tr>\n",
       "      <td>CUS-880898248</td>\n",
       "      <td>0.0</td>\n",
       "      <td>6.0</td>\n",
       "      <td>16.0</td>\n",
       "      <td>0.0</td>\n",
       "      <td>21.0</td>\n",
       "      <td>35.0</td>\n",
       "    </tr>\n",
       "    <tr>\n",
       "      <td>CUS-883482547</td>\n",
       "      <td>0.0</td>\n",
       "      <td>7.0</td>\n",
       "      <td>47.0</td>\n",
       "      <td>4.0</td>\n",
       "      <td>51.0</td>\n",
       "      <td>69.0</td>\n",
       "    </tr>\n",
       "  </tbody>\n",
       "</table>\n",
       "<p>100 rows × 6 columns</p>\n",
       "</div>"
      ],
      "text/plain": [
       "                INTER BANK  PAY/SALARY  PAYMENT  PHONE BANK   POS  SALES-POS\n",
       "customer_id                                                                 \n",
       "CUS-1005756958         0.0        13.0      9.0         3.0  26.0       22.0\n",
       "CUS-1117979751         1.0         7.0     40.0         0.0  26.0       26.0\n",
       "CUS-1140341822         3.0         6.0      6.0         0.0  39.0       26.0\n",
       "CUS-1147642491         2.0        13.0     27.0         0.0  38.0       38.0\n",
       "CUS-1196156254         5.0         7.0     70.0         0.0  74.0       89.0\n",
       "...                    ...         ...      ...         ...   ...        ...\n",
       "CUS-72755508           0.0        12.0      1.0         0.0  14.0       31.0\n",
       "CUS-809013380          1.0        13.0     22.0         0.0  51.0       37.0\n",
       "CUS-860700529          3.0         6.0     15.0         3.0  97.0      109.0\n",
       "CUS-880898248          0.0         6.0     16.0         0.0  21.0       35.0\n",
       "CUS-883482547          0.0         7.0     47.0         4.0  51.0       69.0\n",
       "\n",
       "[100 rows x 6 columns]"
      ]
     },
     "execution_count": 306,
     "metadata": {},
     "output_type": "execute_result"
    }
   ],
   "source": [
    "df_final = df_1.groupby('customer_id').sum()\n",
    "df_final"
   ]
  },
  {
   "cell_type": "markdown",
   "metadata": {},
   "source": [
    "<b>Adding them to the present `df1` column that consists of our final features used for predictions</b>"
   ]
  },
  {
   "cell_type": "code",
   "execution_count": 307,
   "metadata": {},
   "outputs": [],
   "source": [
    "df1['INTER_BANK'] = df_final['INTER BANK']\n",
    "df1['PAYMENT'] = df_final['PAYMENT']\n",
    "df1['PHONE BANK'] = df_final['PHONE BANK']\n",
    "df1['POS'] = df_final['POS']\n",
    "df1['PAY/SALARY'] = df_final['PAYMENT']\n",
    "df1['SALES-POS'] = df_final['SALES-POS']"
   ]
  },
  {
   "cell_type": "code",
   "execution_count": 308,
   "metadata": {},
   "outputs": [
    {
     "data": {
      "text/html": [
       "<div>\n",
       "<style scoped>\n",
       "    .dataframe tbody tr th:only-of-type {\n",
       "        vertical-align: middle;\n",
       "    }\n",
       "\n",
       "    .dataframe tbody tr th {\n",
       "        vertical-align: top;\n",
       "    }\n",
       "\n",
       "    .dataframe thead th {\n",
       "        text-align: right;\n",
       "    }\n",
       "</style>\n",
       "<table border=\"1\" class=\"dataframe\">\n",
       "  <thead>\n",
       "    <tr style=\"text-align: right;\">\n",
       "      <th></th>\n",
       "      <th>gender</th>\n",
       "      <th>age</th>\n",
       "      <th>amount</th>\n",
       "      <th>annual_salary</th>\n",
       "      <th>INTER_BANK</th>\n",
       "      <th>PAYMENT</th>\n",
       "      <th>PHONE BANK</th>\n",
       "      <th>POS</th>\n",
       "      <th>PAY/SALARY</th>\n",
       "      <th>SALES-POS</th>\n",
       "    </tr>\n",
       "    <tr>\n",
       "      <th>customer_id</th>\n",
       "      <th></th>\n",
       "      <th></th>\n",
       "      <th></th>\n",
       "      <th></th>\n",
       "      <th></th>\n",
       "      <th></th>\n",
       "      <th></th>\n",
       "      <th></th>\n",
       "      <th></th>\n",
       "      <th></th>\n",
       "    </tr>\n",
       "  </thead>\n",
       "  <tbody>\n",
       "    <tr>\n",
       "      <td>CUS-1462656821</td>\n",
       "      <td>M</td>\n",
       "      <td>23</td>\n",
       "      <td>3903.95</td>\n",
       "      <td>46847.40</td>\n",
       "      <td>17.0</td>\n",
       "      <td>28.0</td>\n",
       "      <td>0.0</td>\n",
       "      <td>35.0</td>\n",
       "      <td>28.0</td>\n",
       "      <td>29.0</td>\n",
       "    </tr>\n",
       "    <tr>\n",
       "      <td>CUS-2500783281</td>\n",
       "      <td>F</td>\n",
       "      <td>23</td>\n",
       "      <td>1626.48</td>\n",
       "      <td>19517.76</td>\n",
       "      <td>1.0</td>\n",
       "      <td>65.0</td>\n",
       "      <td>0.0</td>\n",
       "      <td>2.0</td>\n",
       "      <td>65.0</td>\n",
       "      <td>2.0</td>\n",
       "    </tr>\n",
       "    <tr>\n",
       "      <td>CUS-326006476</td>\n",
       "      <td>M</td>\n",
       "      <td>22</td>\n",
       "      <td>983.36</td>\n",
       "      <td>11800.32</td>\n",
       "      <td>0.0</td>\n",
       "      <td>6.0</td>\n",
       "      <td>3.0</td>\n",
       "      <td>15.0</td>\n",
       "      <td>6.0</td>\n",
       "      <td>9.0</td>\n",
       "    </tr>\n",
       "    <tr>\n",
       "      <td>CUS-1433879684</td>\n",
       "      <td>M</td>\n",
       "      <td>24</td>\n",
       "      <td>1408.08</td>\n",
       "      <td>16896.96</td>\n",
       "      <td>0.0</td>\n",
       "      <td>38.0</td>\n",
       "      <td>0.0</td>\n",
       "      <td>53.0</td>\n",
       "      <td>38.0</td>\n",
       "      <td>57.0</td>\n",
       "    </tr>\n",
       "    <tr>\n",
       "      <td>CUS-4123612273</td>\n",
       "      <td>F</td>\n",
       "      <td>43</td>\n",
       "      <td>1068.04</td>\n",
       "      <td>12816.48</td>\n",
       "      <td>3.0</td>\n",
       "      <td>32.0</td>\n",
       "      <td>0.0</td>\n",
       "      <td>42.0</td>\n",
       "      <td>32.0</td>\n",
       "      <td>43.0</td>\n",
       "    </tr>\n",
       "  </tbody>\n",
       "</table>\n",
       "</div>"
      ],
      "text/plain": [
       "               gender  age   amount  annual_salary  INTER_BANK  PAYMENT  \\\n",
       "customer_id                                                               \n",
       "CUS-1462656821      M   23  3903.95       46847.40        17.0     28.0   \n",
       "CUS-2500783281      F   23  1626.48       19517.76         1.0     65.0   \n",
       "CUS-326006476       M   22   983.36       11800.32         0.0      6.0   \n",
       "CUS-1433879684      M   24  1408.08       16896.96         0.0     38.0   \n",
       "CUS-4123612273      F   43  1068.04       12816.48         3.0     32.0   \n",
       "\n",
       "                PHONE BANK   POS  PAY/SALARY  SALES-POS  \n",
       "customer_id                                              \n",
       "CUS-1462656821         0.0  35.0        28.0       29.0  \n",
       "CUS-2500783281         0.0   2.0        65.0        2.0  \n",
       "CUS-326006476          3.0  15.0         6.0        9.0  \n",
       "CUS-1433879684         0.0  53.0        38.0       57.0  \n",
       "CUS-4123612273         0.0  42.0        32.0       43.0  "
      ]
     },
     "execution_count": 308,
     "metadata": {},
     "output_type": "execute_result"
    }
   ],
   "source": [
    "df1.head()"
   ]
  },
  {
   "cell_type": "code",
   "execution_count": 309,
   "metadata": {},
   "outputs": [
    {
     "data": {
      "text/plain": [
       "gender           0\n",
       "age              0\n",
       "amount           0\n",
       "annual_salary    0\n",
       "INTER_BANK       0\n",
       "PAYMENT          0\n",
       "PHONE BANK       0\n",
       "POS              0\n",
       "PAY/SALARY       0\n",
       "SALES-POS        0\n",
       "dtype: int64"
      ]
     },
     "execution_count": 309,
     "metadata": {},
     "output_type": "execute_result"
    }
   ],
   "source": [
    "df1.isnull().sum()"
   ]
  },
  {
   "cell_type": "markdown",
   "metadata": {},
   "source": [
    "<h3>Correlation matrix for current features</h3>"
   ]
  },
  {
   "cell_type": "code",
   "execution_count": 310,
   "metadata": {},
   "outputs": [
    {
     "data": {
      "image/png": "[encoded data removed]",
      "text/plain": [
       "<Figure size 1440x1440 with 2 Axes>"
      ]
     },
     "metadata": {
      "needs_background": "light"
     },
     "output_type": "display_data"
    },
    {
     "data": {
      "text/plain": [
       "{'corr':                  gender       age    amount  annual_salary  INTER_BANK  \\\n",
       " gender         1.000000  0.031567  0.181306       0.181306    0.052024   \n",
       " age            0.031567  1.000000 -0.138594      -0.138594   -0.068193   \n",
       " amount         0.181306 -0.138594  1.000000       1.000000    0.301810   \n",
       " annual_salary  0.181306 -0.138594  1.000000       1.000000    0.301810   \n",
       " INTER_BANK     0.052024 -0.068193  0.301810       0.301810    1.000000   \n",
       " PAYMENT        0.025708 -0.096824  0.301072       0.301072   -0.030630   \n",
       " PHONE BANK     0.146611  0.011260  0.195550       0.195550    0.005028   \n",
       " POS            0.163022 -0.175300 -0.122687      -0.122687    0.109187   \n",
       " PAY/SALARY     0.025708 -0.096824  0.301072       0.301072   -0.030630   \n",
       " SALES-POS      0.139096 -0.174942 -0.119339      -0.119339    0.125139   \n",
       " \n",
       "                 PAYMENT  PHONE BANK       POS  PAY/SALARY  SALES-POS  \n",
       " gender         0.025708    0.146611  0.163022    0.025708   0.139096  \n",
       " age           -0.096824    0.011260 -0.175300   -0.096824  -0.174942  \n",
       " amount         0.301072    0.195550 -0.122687    0.301072  -0.119339  \n",
       " annual_salary  0.301072    0.195550 -0.122687    0.301072  -0.119339  \n",
       " INTER_BANK    -0.030630    0.005028  0.109187   -0.030630   0.125139  \n",
       " PAYMENT        1.000000    0.137425 -0.072170    1.000000  -0.055002  \n",
       " PHONE BANK     0.137425    1.000000 -0.086758    0.137425  -0.082894  \n",
       " POS           -0.072170   -0.086758  1.000000   -0.072170   0.975045  \n",
       " PAY/SALARY     1.000000    0.137425 -0.072170    1.000000  -0.055002  \n",
       " SALES-POS     -0.055002   -0.082894  0.975045   -0.055002   1.000000  ,\n",
       " 'ax': <matplotlib.axes._subplots.AxesSubplot at 0x271407d9c08>}"
      ]
     },
     "execution_count": 310,
     "metadata": {},
     "output_type": "execute_result"
    }
   ],
   "source": [
    "associations(df1,figsize=(20,20))"
   ]
  },
  {
   "cell_type": "markdown",
   "metadata": {},
   "source": [
    "<h3>Encoding the gender column as numerical</h3>"
   ]
  },
  {
   "cell_type": "code",
   "execution_count": 311,
   "metadata": {},
   "outputs": [],
   "source": [
    "df1['gender']=df1['gender'].replace({'M':0,'F':1})"
   ]
  },
  {
   "cell_type": "code",
   "execution_count": 312,
   "metadata": {},
   "outputs": [
    {
     "data": {
      "text/html": [
       "<div>\n",
       "<style scoped>\n",
       "    .dataframe tbody tr th:only-of-type {\n",
       "        vertical-align: middle;\n",
       "    }\n",
       "\n",
       "    .dataframe tbody tr th {\n",
       "        vertical-align: top;\n",
       "    }\n",
       "\n",
       "    .dataframe thead th {\n",
       "        text-align: right;\n",
       "    }\n",
       "</style>\n",
       "<table border=\"1\" class=\"dataframe\">\n",
       "  <thead>\n",
       "    <tr style=\"text-align: right;\">\n",
       "      <th></th>\n",
       "      <th>gender</th>\n",
       "      <th>age</th>\n",
       "      <th>amount</th>\n",
       "      <th>annual_salary</th>\n",
       "      <th>INTER_BANK</th>\n",
       "      <th>PAYMENT</th>\n",
       "      <th>PHONE BANK</th>\n",
       "      <th>POS</th>\n",
       "      <th>PAY/SALARY</th>\n",
       "      <th>SALES-POS</th>\n",
       "    </tr>\n",
       "    <tr>\n",
       "      <th>customer_id</th>\n",
       "      <th></th>\n",
       "      <th></th>\n",
       "      <th></th>\n",
       "      <th></th>\n",
       "      <th></th>\n",
       "      <th></th>\n",
       "      <th></th>\n",
       "      <th></th>\n",
       "      <th></th>\n",
       "      <th></th>\n",
       "    </tr>\n",
       "  </thead>\n",
       "  <tbody>\n",
       "    <tr>\n",
       "      <td>CUS-1462656821</td>\n",
       "      <td>0</td>\n",
       "      <td>23</td>\n",
       "      <td>3903.95</td>\n",
       "      <td>46847.40</td>\n",
       "      <td>17.0</td>\n",
       "      <td>28.0</td>\n",
       "      <td>0.0</td>\n",
       "      <td>35.0</td>\n",
       "      <td>28.0</td>\n",
       "      <td>29.0</td>\n",
       "    </tr>\n",
       "    <tr>\n",
       "      <td>CUS-2500783281</td>\n",
       "      <td>1</td>\n",
       "      <td>23</td>\n",
       "      <td>1626.48</td>\n",
       "      <td>19517.76</td>\n",
       "      <td>1.0</td>\n",
       "      <td>65.0</td>\n",
       "      <td>0.0</td>\n",
       "      <td>2.0</td>\n",
       "      <td>65.0</td>\n",
       "      <td>2.0</td>\n",
       "    </tr>\n",
       "    <tr>\n",
       "      <td>CUS-326006476</td>\n",
       "      <td>0</td>\n",
       "      <td>22</td>\n",
       "      <td>983.36</td>\n",
       "      <td>11800.32</td>\n",
       "      <td>0.0</td>\n",
       "      <td>6.0</td>\n",
       "      <td>3.0</td>\n",
       "      <td>15.0</td>\n",
       "      <td>6.0</td>\n",
       "      <td>9.0</td>\n",
       "    </tr>\n",
       "    <tr>\n",
       "      <td>CUS-1433879684</td>\n",
       "      <td>0</td>\n",
       "      <td>24</td>\n",
       "      <td>1408.08</td>\n",
       "      <td>16896.96</td>\n",
       "      <td>0.0</td>\n",
       "      <td>38.0</td>\n",
       "      <td>0.0</td>\n",
       "      <td>53.0</td>\n",
       "      <td>38.0</td>\n",
       "      <td>57.0</td>\n",
       "    </tr>\n",
       "    <tr>\n",
       "      <td>CUS-4123612273</td>\n",
       "      <td>1</td>\n",
       "      <td>43</td>\n",
       "      <td>1068.04</td>\n",
       "      <td>12816.48</td>\n",
       "      <td>3.0</td>\n",
       "      <td>32.0</td>\n",
       "      <td>0.0</td>\n",
       "      <td>42.0</td>\n",
       "      <td>32.0</td>\n",
       "      <td>43.0</td>\n",
       "    </tr>\n",
       "  </tbody>\n",
       "</table>\n",
       "</div>"
      ],
      "text/plain": [
       "                gender  age   amount  annual_salary  INTER_BANK  PAYMENT  \\\n",
       "customer_id                                                                \n",
       "CUS-1462656821       0   23  3903.95       46847.40        17.0     28.0   \n",
       "CUS-2500783281       1   23  1626.48       19517.76         1.0     65.0   \n",
       "CUS-326006476        0   22   983.36       11800.32         0.0      6.0   \n",
       "CUS-1433879684       0   24  1408.08       16896.96         0.0     38.0   \n",
       "CUS-4123612273       1   43  1068.04       12816.48         3.0     32.0   \n",
       "\n",
       "                PHONE BANK   POS  PAY/SALARY  SALES-POS  \n",
       "customer_id                                              \n",
       "CUS-1462656821         0.0  35.0        28.0       29.0  \n",
       "CUS-2500783281         0.0   2.0        65.0        2.0  \n",
       "CUS-326006476          3.0  15.0         6.0        9.0  \n",
       "CUS-1433879684         0.0  53.0        38.0       57.0  \n",
       "CUS-4123612273         0.0  42.0        32.0       43.0  "
      ]
     },
     "execution_count": 312,
     "metadata": {},
     "output_type": "execute_result"
    }
   ],
   "source": [
    "df1.head()"
   ]
  },
  {
   "cell_type": "markdown",
   "metadata": {},
   "source": [
    "<h3>Calculating the amount of transactions done by each customer for every different txn_description</h3>"
   ]
  },
  {
   "cell_type": "code",
   "execution_count": 313,
   "metadata": {},
   "outputs": [
    {
     "data": {
      "text/html": [
       "<div>\n",
       "<style scoped>\n",
       "    .dataframe tbody tr th:only-of-type {\n",
       "        vertical-align: middle;\n",
       "    }\n",
       "\n",
       "    .dataframe tbody tr th {\n",
       "        vertical-align: top;\n",
       "    }\n",
       "\n",
       "    .dataframe thead th {\n",
       "        text-align: right;\n",
       "    }\n",
       "</style>\n",
       "<table border=\"1\" class=\"dataframe\">\n",
       "  <thead>\n",
       "    <tr style=\"text-align: right;\">\n",
       "      <th></th>\n",
       "      <th>card_present_flag</th>\n",
       "      <th>balance</th>\n",
       "      <th>age</th>\n",
       "      <th>amount</th>\n",
       "    </tr>\n",
       "    <tr>\n",
       "      <th>customer_id</th>\n",
       "      <th></th>\n",
       "      <th></th>\n",
       "      <th></th>\n",
       "      <th></th>\n",
       "    </tr>\n",
       "  </thead>\n",
       "  <tbody>\n",
       "    <tr>\n",
       "      <td>CUS-1005756958</td>\n",
       "      <td>19.0</td>\n",
       "      <td>35331.60</td>\n",
       "      <td>1378</td>\n",
       "      <td>748.01</td>\n",
       "    </tr>\n",
       "    <tr>\n",
       "      <td>CUS-1117979751</td>\n",
       "      <td>23.0</td>\n",
       "      <td>240151.91</td>\n",
       "      <td>546</td>\n",
       "      <td>606.37</td>\n",
       "    </tr>\n",
       "    <tr>\n",
       "      <td>CUS-1140341822</td>\n",
       "      <td>33.0</td>\n",
       "      <td>230289.26</td>\n",
       "      <td>1092</td>\n",
       "      <td>1356.47</td>\n",
       "    </tr>\n",
       "    <tr>\n",
       "      <td>CUS-1147642491</td>\n",
       "      <td>24.0</td>\n",
       "      <td>337986.74</td>\n",
       "      <td>1292</td>\n",
       "      <td>2062.31</td>\n",
       "    </tr>\n",
       "    <tr>\n",
       "      <td>CUS-1196156254</td>\n",
       "      <td>54.0</td>\n",
       "      <td>1629736.58</td>\n",
       "      <td>2516</td>\n",
       "      <td>2305.65</td>\n",
       "    </tr>\n",
       "    <tr>\n",
       "      <td>...</td>\n",
       "      <td>...</td>\n",
       "      <td>...</td>\n",
       "      <td>...</td>\n",
       "      <td>...</td>\n",
       "    </tr>\n",
       "    <tr>\n",
       "      <td>CUS-72755508</td>\n",
       "      <td>13.0</td>\n",
       "      <td>66025.13</td>\n",
       "      <td>490</td>\n",
       "      <td>350.31</td>\n",
       "    </tr>\n",
       "    <tr>\n",
       "      <td>CUS-809013380</td>\n",
       "      <td>39.0</td>\n",
       "      <td>163895.68</td>\n",
       "      <td>1071</td>\n",
       "      <td>1135.01</td>\n",
       "    </tr>\n",
       "    <tr>\n",
       "      <td>CUS-860700529</td>\n",
       "      <td>75.0</td>\n",
       "      <td>343398.59</td>\n",
       "      <td>2910</td>\n",
       "      <td>2731.99</td>\n",
       "    </tr>\n",
       "    <tr>\n",
       "      <td>CUS-880898248</td>\n",
       "      <td>20.0</td>\n",
       "      <td>179957.80</td>\n",
       "      <td>546</td>\n",
       "      <td>422.13</td>\n",
       "    </tr>\n",
       "    <tr>\n",
       "      <td>CUS-883482547</td>\n",
       "      <td>38.0</td>\n",
       "      <td>509533.76</td>\n",
       "      <td>969</td>\n",
       "      <td>1562.39</td>\n",
       "    </tr>\n",
       "  </tbody>\n",
       "</table>\n",
       "<p>100 rows × 4 columns</p>\n",
       "</div>"
      ],
      "text/plain": [
       "                card_present_flag     balance   age   amount\n",
       "customer_id                                                 \n",
       "CUS-1005756958               19.0    35331.60  1378   748.01\n",
       "CUS-1117979751               23.0   240151.91   546   606.37\n",
       "CUS-1140341822               33.0   230289.26  1092  1356.47\n",
       "CUS-1147642491               24.0   337986.74  1292  2062.31\n",
       "CUS-1196156254               54.0  1629736.58  2516  2305.65\n",
       "...                           ...         ...   ...      ...\n",
       "CUS-72755508                 13.0    66025.13   490   350.31\n",
       "CUS-809013380                39.0   163895.68  1071  1135.01\n",
       "CUS-860700529                75.0   343398.59  2910  2731.99\n",
       "CUS-880898248                20.0   179957.80   546   422.13\n",
       "CUS-883482547                38.0   509533.76   969  1562.39\n",
       "\n",
       "[100 rows x 4 columns]"
      ]
     },
     "execution_count": 313,
     "metadata": {},
     "output_type": "execute_result"
    }
   ],
   "source": [
    "df[df['txn_description']=='POS'].groupby('customer_id').sum()"
   ]
  },
  {
   "cell_type": "code",
   "execution_count": 314,
   "metadata": {},
   "outputs": [
    {
     "data": {
      "text/html": [
       "<div>\n",
       "<style scoped>\n",
       "    .dataframe tbody tr th:only-of-type {\n",
       "        vertical-align: middle;\n",
       "    }\n",
       "\n",
       "    .dataframe tbody tr th {\n",
       "        vertical-align: top;\n",
       "    }\n",
       "\n",
       "    .dataframe thead th {\n",
       "        text-align: right;\n",
       "    }\n",
       "</style>\n",
       "<table border=\"1\" class=\"dataframe\">\n",
       "  <thead>\n",
       "    <tr style=\"text-align: right;\">\n",
       "      <th></th>\n",
       "      <th>card_present_flag</th>\n",
       "      <th>balance</th>\n",
       "      <th>age</th>\n",
       "      <th>amount</th>\n",
       "    </tr>\n",
       "    <tr>\n",
       "      <th>customer_id</th>\n",
       "      <th></th>\n",
       "      <th></th>\n",
       "      <th></th>\n",
       "      <th></th>\n",
       "    </tr>\n",
       "  </thead>\n",
       "  <tbody>\n",
       "    <tr>\n",
       "      <td>CUS-1005756958</td>\n",
       "      <td>20.0</td>\n",
       "      <td>19208.25</td>\n",
       "      <td>1166</td>\n",
       "      <td>1062.85</td>\n",
       "    </tr>\n",
       "    <tr>\n",
       "      <td>CUS-1117979751</td>\n",
       "      <td>20.0</td>\n",
       "      <td>224476.91</td>\n",
       "      <td>546</td>\n",
       "      <td>3369.45</td>\n",
       "    </tr>\n",
       "    <tr>\n",
       "      <td>CUS-1140341822</td>\n",
       "      <td>20.0</td>\n",
       "      <td>142591.33</td>\n",
       "      <td>728</td>\n",
       "      <td>3033.07</td>\n",
       "    </tr>\n",
       "    <tr>\n",
       "      <td>CUS-1147642491</td>\n",
       "      <td>33.0</td>\n",
       "      <td>371992.50</td>\n",
       "      <td>1292</td>\n",
       "      <td>1823.44</td>\n",
       "    </tr>\n",
       "    <tr>\n",
       "      <td>CUS-1196156254</td>\n",
       "      <td>74.0</td>\n",
       "      <td>1952620.40</td>\n",
       "      <td>3026</td>\n",
       "      <td>2634.96</td>\n",
       "    </tr>\n",
       "    <tr>\n",
       "      <td>...</td>\n",
       "      <td>...</td>\n",
       "      <td>...</td>\n",
       "      <td>...</td>\n",
       "      <td>...</td>\n",
       "    </tr>\n",
       "    <tr>\n",
       "      <td>CUS-72755508</td>\n",
       "      <td>26.0</td>\n",
       "      <td>134901.13</td>\n",
       "      <td>1085</td>\n",
       "      <td>1204.22</td>\n",
       "    </tr>\n",
       "    <tr>\n",
       "      <td>CUS-809013380</td>\n",
       "      <td>31.0</td>\n",
       "      <td>121777.51</td>\n",
       "      <td>777</td>\n",
       "      <td>1267.17</td>\n",
       "    </tr>\n",
       "    <tr>\n",
       "      <td>CUS-860700529</td>\n",
       "      <td>88.0</td>\n",
       "      <td>369634.65</td>\n",
       "      <td>3270</td>\n",
       "      <td>3251.17</td>\n",
       "    </tr>\n",
       "    <tr>\n",
       "      <td>CUS-880898248</td>\n",
       "      <td>28.0</td>\n",
       "      <td>286264.78</td>\n",
       "      <td>910</td>\n",
       "      <td>1196.44</td>\n",
       "    </tr>\n",
       "    <tr>\n",
       "      <td>CUS-883482547</td>\n",
       "      <td>56.0</td>\n",
       "      <td>620484.64</td>\n",
       "      <td>1311</td>\n",
       "      <td>2143.80</td>\n",
       "    </tr>\n",
       "  </tbody>\n",
       "</table>\n",
       "<p>99 rows × 4 columns</p>\n",
       "</div>"
      ],
      "text/plain": [
       "                card_present_flag     balance   age   amount\n",
       "customer_id                                                 \n",
       "CUS-1005756958               20.0    19208.25  1166  1062.85\n",
       "CUS-1117979751               20.0   224476.91   546  3369.45\n",
       "CUS-1140341822               20.0   142591.33   728  3033.07\n",
       "CUS-1147642491               33.0   371992.50  1292  1823.44\n",
       "CUS-1196156254               74.0  1952620.40  3026  2634.96\n",
       "...                           ...         ...   ...      ...\n",
       "CUS-72755508                 26.0   134901.13  1085  1204.22\n",
       "CUS-809013380                31.0   121777.51   777  1267.17\n",
       "CUS-860700529                88.0   369634.65  3270  3251.17\n",
       "CUS-880898248                28.0   286264.78   910  1196.44\n",
       "CUS-883482547                56.0   620484.64  1311  2143.80\n",
       "\n",
       "[99 rows x 4 columns]"
      ]
     },
     "execution_count": 314,
     "metadata": {},
     "output_type": "execute_result"
    }
   ],
   "source": [
    "df[df['txn_description']=='SALES-POS'].groupby('customer_id').sum()"
   ]
  },
  {
   "cell_type": "code",
   "execution_count": 315,
   "metadata": {
    "scrolled": false
   },
   "outputs": [
    {
     "data": {
      "text/html": [
       "<div>\n",
       "<style scoped>\n",
       "    .dataframe tbody tr th:only-of-type {\n",
       "        vertical-align: middle;\n",
       "    }\n",
       "\n",
       "    .dataframe tbody tr th {\n",
       "        vertical-align: top;\n",
       "    }\n",
       "\n",
       "    .dataframe thead th {\n",
       "        text-align: right;\n",
       "    }\n",
       "</style>\n",
       "<table border=\"1\" class=\"dataframe\">\n",
       "  <thead>\n",
       "    <tr style=\"text-align: right;\">\n",
       "      <th></th>\n",
       "      <th>card_present_flag</th>\n",
       "      <th>balance</th>\n",
       "      <th>age</th>\n",
       "      <th>amount</th>\n",
       "    </tr>\n",
       "    <tr>\n",
       "      <th>customer_id</th>\n",
       "      <th></th>\n",
       "      <th></th>\n",
       "      <th></th>\n",
       "      <th></th>\n",
       "    </tr>\n",
       "  </thead>\n",
       "  <tbody>\n",
       "    <tr>\n",
       "      <td>CUS-1005756958</td>\n",
       "      <td>0.0</td>\n",
       "      <td>13952.44</td>\n",
       "      <td>159</td>\n",
       "      <td>546.0</td>\n",
       "    </tr>\n",
       "    <tr>\n",
       "      <td>CUS-1646183815</td>\n",
       "      <td>0.0</td>\n",
       "      <td>164206.34</td>\n",
       "      <td>234</td>\n",
       "      <td>450.0</td>\n",
       "    </tr>\n",
       "    <tr>\n",
       "      <td>CUS-1896554896</td>\n",
       "      <td>0.0</td>\n",
       "      <td>9869.28</td>\n",
       "      <td>35</td>\n",
       "      <td>1916.0</td>\n",
       "    </tr>\n",
       "    <tr>\n",
       "      <td>CUS-2155701614</td>\n",
       "      <td>0.0</td>\n",
       "      <td>32964.72</td>\n",
       "      <td>105</td>\n",
       "      <td>246.0</td>\n",
       "    </tr>\n",
       "    <tr>\n",
       "      <td>CUS-2348881191</td>\n",
       "      <td>0.0</td>\n",
       "      <td>1220.75</td>\n",
       "      <td>41</td>\n",
       "      <td>1629.0</td>\n",
       "    </tr>\n",
       "    <tr>\n",
       "      <td>CUS-2376382098</td>\n",
       "      <td>0.0</td>\n",
       "      <td>47474.18</td>\n",
       "      <td>117</td>\n",
       "      <td>531.0</td>\n",
       "    </tr>\n",
       "    <tr>\n",
       "      <td>CUS-261674136</td>\n",
       "      <td>0.0</td>\n",
       "      <td>183490.24</td>\n",
       "      <td>377</td>\n",
       "      <td>559.0</td>\n",
       "    </tr>\n",
       "    <tr>\n",
       "      <td>CUS-3151318058</td>\n",
       "      <td>0.0</td>\n",
       "      <td>540292.84</td>\n",
       "      <td>588</td>\n",
       "      <td>504.0</td>\n",
       "    </tr>\n",
       "    <tr>\n",
       "      <td>CUS-3180318393</td>\n",
       "      <td>0.0</td>\n",
       "      <td>92979.49</td>\n",
       "      <td>351</td>\n",
       "      <td>871.0</td>\n",
       "    </tr>\n",
       "    <tr>\n",
       "      <td>CUS-326006476</td>\n",
       "      <td>0.0</td>\n",
       "      <td>19812.28</td>\n",
       "      <td>66</td>\n",
       "      <td>474.0</td>\n",
       "    </tr>\n",
       "    <tr>\n",
       "      <td>CUS-3336454548</td>\n",
       "      <td>0.0</td>\n",
       "      <td>142695.34</td>\n",
       "      <td>216</td>\n",
       "      <td>252.0</td>\n",
       "    </tr>\n",
       "    <tr>\n",
       "      <td>CUS-4023861240</td>\n",
       "      <td>0.0</td>\n",
       "      <td>135214.29</td>\n",
       "      <td>336</td>\n",
       "      <td>696.0</td>\n",
       "    </tr>\n",
       "    <tr>\n",
       "      <td>CUS-527400765</td>\n",
       "      <td>0.0</td>\n",
       "      <td>2370797.03</td>\n",
       "      <td>480</td>\n",
       "      <td>492.0</td>\n",
       "    </tr>\n",
       "    <tr>\n",
       "      <td>CUS-537508723</td>\n",
       "      <td>0.0</td>\n",
       "      <td>8111.45</td>\n",
       "      <td>21</td>\n",
       "      <td>355.0</td>\n",
       "    </tr>\n",
       "    <tr>\n",
       "      <td>CUS-860700529</td>\n",
       "      <td>0.0</td>\n",
       "      <td>8021.36</td>\n",
       "      <td>90</td>\n",
       "      <td>402.0</td>\n",
       "    </tr>\n",
       "    <tr>\n",
       "      <td>CUS-883482547</td>\n",
       "      <td>0.0</td>\n",
       "      <td>40313.73</td>\n",
       "      <td>76</td>\n",
       "      <td>793.0</td>\n",
       "    </tr>\n",
       "  </tbody>\n",
       "</table>\n",
       "</div>"
      ],
      "text/plain": [
       "                card_present_flag     balance  age  amount\n",
       "customer_id                                               \n",
       "CUS-1005756958                0.0    13952.44  159   546.0\n",
       "CUS-1646183815                0.0   164206.34  234   450.0\n",
       "CUS-1896554896                0.0     9869.28   35  1916.0\n",
       "CUS-2155701614                0.0    32964.72  105   246.0\n",
       "CUS-2348881191                0.0     1220.75   41  1629.0\n",
       "CUS-2376382098                0.0    47474.18  117   531.0\n",
       "CUS-261674136                 0.0   183490.24  377   559.0\n",
       "CUS-3151318058                0.0   540292.84  588   504.0\n",
       "CUS-3180318393                0.0    92979.49  351   871.0\n",
       "CUS-326006476                 0.0    19812.28   66   474.0\n",
       "CUS-3336454548                0.0   142695.34  216   252.0\n",
       "CUS-4023861240                0.0   135214.29  336   696.0\n",
       "CUS-527400765                 0.0  2370797.03  480   492.0\n",
       "CUS-537508723                 0.0     8111.45   21   355.0\n",
       "CUS-860700529                 0.0     8021.36   90   402.0\n",
       "CUS-883482547                 0.0    40313.73   76   793.0"
      ]
     },
     "execution_count": 315,
     "metadata": {},
     "output_type": "execute_result"
    }
   ],
   "source": [
    "df[df['txn_description']=='PHONE BANK'].groupby('customer_id').sum()"
   ]
  },
  {
   "cell_type": "code",
   "execution_count": 316,
   "metadata": {},
   "outputs": [
    {
     "data": {
      "text/html": [
       "<div>\n",
       "<style scoped>\n",
       "    .dataframe tbody tr th:only-of-type {\n",
       "        vertical-align: middle;\n",
       "    }\n",
       "\n",
       "    .dataframe tbody tr th {\n",
       "        vertical-align: top;\n",
       "    }\n",
       "\n",
       "    .dataframe thead th {\n",
       "        text-align: right;\n",
       "    }\n",
       "</style>\n",
       "<table border=\"1\" class=\"dataframe\">\n",
       "  <thead>\n",
       "    <tr style=\"text-align: right;\">\n",
       "      <th></th>\n",
       "      <th>card_present_flag</th>\n",
       "      <th>balance</th>\n",
       "      <th>age</th>\n",
       "      <th>amount</th>\n",
       "    </tr>\n",
       "    <tr>\n",
       "      <th>customer_id</th>\n",
       "      <th></th>\n",
       "      <th></th>\n",
       "      <th></th>\n",
       "      <th></th>\n",
       "    </tr>\n",
       "  </thead>\n",
       "  <tbody>\n",
       "    <tr>\n",
       "      <td>CUS-1117979751</td>\n",
       "      <td>0.0</td>\n",
       "      <td>7282.51</td>\n",
       "      <td>21</td>\n",
       "      <td>1001.0</td>\n",
       "    </tr>\n",
       "    <tr>\n",
       "      <td>CUS-1140341822</td>\n",
       "      <td>0.0</td>\n",
       "      <td>16483.96</td>\n",
       "      <td>84</td>\n",
       "      <td>270.0</td>\n",
       "    </tr>\n",
       "    <tr>\n",
       "      <td>CUS-1147642491</td>\n",
       "      <td>0.0</td>\n",
       "      <td>15550.20</td>\n",
       "      <td>68</td>\n",
       "      <td>250.0</td>\n",
       "    </tr>\n",
       "    <tr>\n",
       "      <td>CUS-1196156254</td>\n",
       "      <td>0.0</td>\n",
       "      <td>111327.90</td>\n",
       "      <td>170</td>\n",
       "      <td>767.0</td>\n",
       "    </tr>\n",
       "    <tr>\n",
       "      <td>CUS-1271030853</td>\n",
       "      <td>0.0</td>\n",
       "      <td>68670.57</td>\n",
       "      <td>480</td>\n",
       "      <td>1219.0</td>\n",
       "    </tr>\n",
       "    <tr>\n",
       "      <td>...</td>\n",
       "      <td>...</td>\n",
       "      <td>...</td>\n",
       "      <td>...</td>\n",
       "      <td>...</td>\n",
       "    </tr>\n",
       "    <tr>\n",
       "      <td>CUS-51506836</td>\n",
       "      <td>0.0</td>\n",
       "      <td>240011.26</td>\n",
       "      <td>360</td>\n",
       "      <td>3794.0</td>\n",
       "    </tr>\n",
       "    <tr>\n",
       "      <td>CUS-527400765</td>\n",
       "      <td>0.0</td>\n",
       "      <td>2958417.28</td>\n",
       "      <td>600</td>\n",
       "      <td>917.0</td>\n",
       "    </tr>\n",
       "    <tr>\n",
       "      <td>CUS-55310383</td>\n",
       "      <td>0.0</td>\n",
       "      <td>24789.19</td>\n",
       "      <td>90</td>\n",
       "      <td>465.0</td>\n",
       "    </tr>\n",
       "    <tr>\n",
       "      <td>CUS-809013380</td>\n",
       "      <td>0.0</td>\n",
       "      <td>2701.31</td>\n",
       "      <td>21</td>\n",
       "      <td>1383.0</td>\n",
       "    </tr>\n",
       "    <tr>\n",
       "      <td>CUS-860700529</td>\n",
       "      <td>0.0</td>\n",
       "      <td>9272.42</td>\n",
       "      <td>90</td>\n",
       "      <td>234.0</td>\n",
       "    </tr>\n",
       "  </tbody>\n",
       "</table>\n",
       "<p>68 rows × 4 columns</p>\n",
       "</div>"
      ],
      "text/plain": [
       "                card_present_flag     balance  age  amount\n",
       "customer_id                                               \n",
       "CUS-1117979751                0.0     7282.51   21  1001.0\n",
       "CUS-1140341822                0.0    16483.96   84   270.0\n",
       "CUS-1147642491                0.0    15550.20   68   250.0\n",
       "CUS-1196156254                0.0   111327.90  170   767.0\n",
       "CUS-1271030853                0.0    68670.57  480  1219.0\n",
       "...                           ...         ...  ...     ...\n",
       "CUS-51506836                  0.0   240011.26  360  3794.0\n",
       "CUS-527400765                 0.0  2958417.28  600   917.0\n",
       "CUS-55310383                  0.0    24789.19   90   465.0\n",
       "CUS-809013380                 0.0     2701.31   21  1383.0\n",
       "CUS-860700529                 0.0     9272.42   90   234.0\n",
       "\n",
       "[68 rows x 4 columns]"
      ]
     },
     "execution_count": 316,
     "metadata": {},
     "output_type": "execute_result"
    }
   ],
   "source": [
    "df[df['txn_description']=='INTER BANK'].groupby('customer_id').sum()"
   ]
  },
  {
   "cell_type": "markdown",
   "metadata": {},
   "source": [
    "<h3>Adding them to the final dataset</h3>"
   ]
  },
  {
   "cell_type": "code",
   "execution_count": 317,
   "metadata": {},
   "outputs": [],
   "source": [
    "df1['POS_Amount'] = df[df['txn_description']=='POS'].groupby('customer_id').sum().amount"
   ]
  },
  {
   "cell_type": "code",
   "execution_count": 318,
   "metadata": {},
   "outputs": [],
   "source": [
    "df1['SALES-POS_Amount'] = df[df['txn_description']=='SALES-POS'].groupby('customer_id').sum().amount"
   ]
  },
  {
   "cell_type": "code",
   "execution_count": 319,
   "metadata": {},
   "outputs": [],
   "source": [
    "df1['PHONE BANK Amount'] = df[df['txn_description']=='PHONE BANK'].groupby('customer_id').sum().amount"
   ]
  },
  {
   "cell_type": "code",
   "execution_count": 320,
   "metadata": {},
   "outputs": [],
   "source": [
    "df1['INTER_BANK_AMOUNT'] = df[df['txn_description']=='INTER BANK'].groupby('customer_id').sum().amount"
   ]
  },
  {
   "cell_type": "code",
   "execution_count": 321,
   "metadata": {},
   "outputs": [
    {
     "data": {
      "text/html": [
       "<div>\n",
       "<style scoped>\n",
       "    .dataframe tbody tr th:only-of-type {\n",
       "        vertical-align: middle;\n",
       "    }\n",
       "\n",
       "    .dataframe tbody tr th {\n",
       "        vertical-align: top;\n",
       "    }\n",
       "\n",
       "    .dataframe thead th {\n",
       "        text-align: right;\n",
       "    }\n",
       "</style>\n",
       "<table border=\"1\" class=\"dataframe\">\n",
       "  <thead>\n",
       "    <tr style=\"text-align: right;\">\n",
       "      <th></th>\n",
       "      <th>gender</th>\n",
       "      <th>age</th>\n",
       "      <th>amount</th>\n",
       "      <th>annual_salary</th>\n",
       "      <th>INTER_BANK</th>\n",
       "      <th>PAYMENT</th>\n",
       "      <th>PHONE BANK</th>\n",
       "      <th>POS</th>\n",
       "      <th>PAY/SALARY</th>\n",
       "      <th>SALES-POS</th>\n",
       "      <th>POS_Amount</th>\n",
       "      <th>SALES-POS_Amount</th>\n",
       "      <th>PHONE BANK Amount</th>\n",
       "      <th>INTER_BANK_AMOUNT</th>\n",
       "    </tr>\n",
       "    <tr>\n",
       "      <th>customer_id</th>\n",
       "      <th></th>\n",
       "      <th></th>\n",
       "      <th></th>\n",
       "      <th></th>\n",
       "      <th></th>\n",
       "      <th></th>\n",
       "      <th></th>\n",
       "      <th></th>\n",
       "      <th></th>\n",
       "      <th></th>\n",
       "      <th></th>\n",
       "      <th></th>\n",
       "      <th></th>\n",
       "      <th></th>\n",
       "    </tr>\n",
       "  </thead>\n",
       "  <tbody>\n",
       "    <tr>\n",
       "      <td>CUS-1462656821</td>\n",
       "      <td>0</td>\n",
       "      <td>23</td>\n",
       "      <td>3903.95</td>\n",
       "      <td>46847.40</td>\n",
       "      <td>17.0</td>\n",
       "      <td>28.0</td>\n",
       "      <td>0.0</td>\n",
       "      <td>35.0</td>\n",
       "      <td>28.0</td>\n",
       "      <td>29.0</td>\n",
       "      <td>1787.65</td>\n",
       "      <td>1427.90</td>\n",
       "      <td>NaN</td>\n",
       "      <td>701.0</td>\n",
       "    </tr>\n",
       "    <tr>\n",
       "      <td>CUS-2500783281</td>\n",
       "      <td>1</td>\n",
       "      <td>23</td>\n",
       "      <td>1626.48</td>\n",
       "      <td>19517.76</td>\n",
       "      <td>1.0</td>\n",
       "      <td>65.0</td>\n",
       "      <td>0.0</td>\n",
       "      <td>2.0</td>\n",
       "      <td>65.0</td>\n",
       "      <td>2.0</td>\n",
       "      <td>31.26</td>\n",
       "      <td>19.24</td>\n",
       "      <td>NaN</td>\n",
       "      <td>213.0</td>\n",
       "    </tr>\n",
       "    <tr>\n",
       "      <td>CUS-326006476</td>\n",
       "      <td>0</td>\n",
       "      <td>22</td>\n",
       "      <td>983.36</td>\n",
       "      <td>11800.32</td>\n",
       "      <td>0.0</td>\n",
       "      <td>6.0</td>\n",
       "      <td>3.0</td>\n",
       "      <td>15.0</td>\n",
       "      <td>6.0</td>\n",
       "      <td>9.0</td>\n",
       "      <td>604.72</td>\n",
       "      <td>356.21</td>\n",
       "      <td>474.0</td>\n",
       "      <td>NaN</td>\n",
       "    </tr>\n",
       "    <tr>\n",
       "      <td>CUS-1433879684</td>\n",
       "      <td>0</td>\n",
       "      <td>24</td>\n",
       "      <td>1408.08</td>\n",
       "      <td>16896.96</td>\n",
       "      <td>0.0</td>\n",
       "      <td>38.0</td>\n",
       "      <td>0.0</td>\n",
       "      <td>53.0</td>\n",
       "      <td>38.0</td>\n",
       "      <td>57.0</td>\n",
       "      <td>2251.27</td>\n",
       "      <td>1741.53</td>\n",
       "      <td>NaN</td>\n",
       "      <td>NaN</td>\n",
       "    </tr>\n",
       "    <tr>\n",
       "      <td>CUS-4123612273</td>\n",
       "      <td>1</td>\n",
       "      <td>43</td>\n",
       "      <td>1068.04</td>\n",
       "      <td>12816.48</td>\n",
       "      <td>3.0</td>\n",
       "      <td>32.0</td>\n",
       "      <td>0.0</td>\n",
       "      <td>42.0</td>\n",
       "      <td>32.0</td>\n",
       "      <td>43.0</td>\n",
       "      <td>2815.62</td>\n",
       "      <td>2124.94</td>\n",
       "      <td>NaN</td>\n",
       "      <td>591.0</td>\n",
       "    </tr>\n",
       "  </tbody>\n",
       "</table>\n",
       "</div>"
      ],
      "text/plain": [
       "                gender  age   amount  annual_salary  INTER_BANK  PAYMENT  \\\n",
       "customer_id                                                                \n",
       "CUS-1462656821       0   23  3903.95       46847.40        17.0     28.0   \n",
       "CUS-2500783281       1   23  1626.48       19517.76         1.0     65.0   \n",
       "CUS-326006476        0   22   983.36       11800.32         0.0      6.0   \n",
       "CUS-1433879684       0   24  1408.08       16896.96         0.0     38.0   \n",
       "CUS-4123612273       1   43  1068.04       12816.48         3.0     32.0   \n",
       "\n",
       "                PHONE BANK   POS  PAY/SALARY  SALES-POS  POS_Amount  \\\n",
       "customer_id                                                           \n",
       "CUS-1462656821         0.0  35.0        28.0       29.0     1787.65   \n",
       "CUS-2500783281         0.0   2.0        65.0        2.0       31.26   \n",
       "CUS-326006476          3.0  15.0         6.0        9.0      604.72   \n",
       "CUS-1433879684         0.0  53.0        38.0       57.0     2251.27   \n",
       "CUS-4123612273         0.0  42.0        32.0       43.0     2815.62   \n",
       "\n",
       "                SALES-POS_Amount  PHONE BANK Amount  INTER_BANK_AMOUNT  \n",
       "customer_id                                                             \n",
       "CUS-1462656821           1427.90                NaN              701.0  \n",
       "CUS-2500783281             19.24                NaN              213.0  \n",
       "CUS-326006476             356.21              474.0                NaN  \n",
       "CUS-1433879684           1741.53                NaN                NaN  \n",
       "CUS-4123612273           2124.94                NaN              591.0  "
      ]
     },
     "execution_count": 321,
     "metadata": {},
     "output_type": "execute_result"
    }
   ],
   "source": [
    "df1.head()"
   ]
  },
  {
   "cell_type": "code",
   "execution_count": 322,
   "metadata": {},
   "outputs": [
    {
     "data": {
      "text/plain": [
       "gender                 0\n",
       "age                    0\n",
       "amount                 0\n",
       "annual_salary          0\n",
       "INTER_BANK             0\n",
       "PAYMENT                0\n",
       "PHONE BANK             0\n",
       "POS                    0\n",
       "PAY/SALARY             0\n",
       "SALES-POS              0\n",
       "POS_Amount             0\n",
       "SALES-POS_Amount      12\n",
       "PHONE BANK Amount    746\n",
       "INTER_BANK_AMOUNT    285\n",
       "dtype: int64"
      ]
     },
     "execution_count": 322,
     "metadata": {},
     "output_type": "execute_result"
    }
   ],
   "source": [
    "df1.isnull().sum()"
   ]
  },
  {
   "cell_type": "markdown",
   "metadata": {},
   "source": [
    "<b>Filling NULL values with 0 as they the users haven't made any transactions with regards to that description.</b>"
   ]
  },
  {
   "cell_type": "code",
   "execution_count": 323,
   "metadata": {},
   "outputs": [],
   "source": [
    "df1.fillna(0,inplace=True)"
   ]
  },
  {
   "cell_type": "code",
   "execution_count": 324,
   "metadata": {},
   "outputs": [
    {
     "data": {
      "text/plain": [
       "gender               0\n",
       "age                  0\n",
       "amount               0\n",
       "annual_salary        0\n",
       "INTER_BANK           0\n",
       "PAYMENT              0\n",
       "PHONE BANK           0\n",
       "POS                  0\n",
       "PAY/SALARY           0\n",
       "SALES-POS            0\n",
       "POS_Amount           0\n",
       "SALES-POS_Amount     0\n",
       "PHONE BANK Amount    0\n",
       "INTER_BANK_AMOUNT    0\n",
       "dtype: int64"
      ]
     },
     "execution_count": 324,
     "metadata": {},
     "output_type": "execute_result"
    }
   ],
   "source": [
    "df1.isnull().sum()"
   ]
  },
  {
   "cell_type": "markdown",
   "metadata": {},
   "source": [
    "<h3>Correlation matrix of current features</h3>"
   ]
  },
  {
   "cell_type": "code",
   "execution_count": 325,
   "metadata": {
    "scrolled": true
   },
   "outputs": [
    {
     "data": {
      "image/png": "[encoded data removed]",
      "text/plain": [
       "<Figure size 1440x1440 with 2 Axes>"
      ]
     },
     "metadata": {
      "needs_background": "light"
     },
     "output_type": "display_data"
    },
    {
     "data": {
      "text/plain": [
       "{'corr':                      gender       age    amount  annual_salary  INTER_BANK  \\\n",
       " gender             1.000000 -0.031567 -0.181306      -0.181306    0.052024   \n",
       " age               -0.031567  1.000000 -0.138594      -0.138594   -0.068193   \n",
       " amount            -0.181306 -0.138594  1.000000       1.000000    0.301810   \n",
       " annual_salary     -0.181306 -0.138594  1.000000       1.000000    0.301810   \n",
       " INTER_BANK         0.052024 -0.068193  0.301810       0.301810    1.000000   \n",
       " PAYMENT           -0.025708 -0.096824  0.301072       0.301072   -0.030630   \n",
       " PHONE BANK        -0.146611  0.011260  0.195550       0.195550    0.005028   \n",
       " POS                0.163022 -0.175300 -0.122687      -0.122687    0.109187   \n",
       " PAY/SALARY        -0.025708 -0.096824  0.301072       0.301072   -0.030630   \n",
       " SALES-POS          0.139096 -0.174942 -0.119339      -0.119339    0.125139   \n",
       " POS_Amount         0.105581 -0.060089 -0.143877      -0.143877    0.134509   \n",
       " SALES-POS_Amount   0.128785 -0.166394  0.034232       0.034232    0.043582   \n",
       " PHONE BANK Amount -0.073112  0.091747  0.107023       0.107023   -0.005552   \n",
       " INTER_BANK_AMOUNT -0.020269 -0.125315  0.267112       0.267112    0.669177   \n",
       " \n",
       "                     PAYMENT  PHONE BANK       POS  PAY/SALARY  SALES-POS  \\\n",
       " gender            -0.025708   -0.146611  0.163022   -0.025708   0.139096   \n",
       " age               -0.096824    0.011260 -0.175300   -0.096824  -0.174942   \n",
       " amount             0.301072    0.195550 -0.122687    0.301072  -0.119339   \n",
       " annual_salary      0.301072    0.195550 -0.122687    0.301072  -0.119339   \n",
       " INTER_BANK        -0.030630    0.005028  0.109187   -0.030630   0.125139   \n",
       " PAYMENT            1.000000    0.137425 -0.072170    1.000000  -0.055002   \n",
       " PHONE BANK         0.137425    1.000000 -0.086758    0.137425  -0.082894   \n",
       " POS               -0.072170   -0.086758  1.000000   -0.072170   0.975045   \n",
       " PAY/SALARY         1.000000    0.137425 -0.072170    1.000000  -0.055002   \n",
       " SALES-POS         -0.055002   -0.082894  0.975045   -0.055002   1.000000   \n",
       " POS_Amount        -0.061534   -0.145705  0.636646   -0.061534   0.598882   \n",
       " SALES-POS_Amount  -0.063323   -0.037075  0.652228   -0.063323   0.673899   \n",
       " PHONE BANK Amount  0.022531    0.578969 -0.066545    0.022531  -0.053470   \n",
       " INTER_BANK_AMOUNT  0.074852   -0.093666  0.043324    0.074852   0.041437   \n",
       " \n",
       "                    POS_Amount  SALES-POS_Amount  PHONE BANK Amount  \\\n",
       " gender               0.105581          0.128785          -0.073112   \n",
       " age                 -0.060089         -0.166394           0.091747   \n",
       " amount              -0.143877          0.034232           0.107023   \n",
       " annual_salary       -0.143877          0.034232           0.107023   \n",
       " INTER_BANK           0.134509          0.043582          -0.005552   \n",
       " PAYMENT             -0.061534         -0.063323           0.022531   \n",
       " PHONE BANK          -0.145705         -0.037075           0.578969   \n",
       " POS                  0.636646          0.652228          -0.066545   \n",
       " PAY/SALARY          -0.061534         -0.063323           0.022531   \n",
       " SALES-POS            0.598882          0.673899          -0.053470   \n",
       " POS_Amount           1.000000          0.409847          -0.104840   \n",
       " SALES-POS_Amount     0.409847          1.000000          -0.058042   \n",
       " PHONE BANK Amount   -0.104840         -0.058042           1.000000   \n",
       " INTER_BANK_AMOUNT    0.127325          0.121847          -0.103751   \n",
       " \n",
       "                    INTER_BANK_AMOUNT  \n",
       " gender                     -0.020269  \n",
       " age                        -0.125315  \n",
       " amount                      0.267112  \n",
       " annual_salary               0.267112  \n",
       " INTER_BANK                  0.669177  \n",
       " PAYMENT                     0.074852  \n",
       " PHONE BANK                 -0.093666  \n",
       " POS                         0.043324  \n",
       " PAY/SALARY                  0.074852  \n",
       " SALES-POS                   0.041437  \n",
       " POS_Amount                  0.127325  \n",
       " SALES-POS_Amount            0.121847  \n",
       " PHONE BANK Amount          -0.103751  \n",
       " INTER_BANK_AMOUNT           1.000000  ,\n",
       " 'ax': <matplotlib.axes._subplots.AxesSubplot at 0x27145316508>}"
      ]
     },
     "execution_count": 325,
     "metadata": {},
     "output_type": "execute_result"
    }
   ],
   "source": [
    "associations(df1,figsize=(20,20))"
   ]
  },
  {
   "cell_type": "markdown",
   "metadata": {},
   "source": [
    "<h3>Cleaning the amount value skewness</h3>"
   ]
  },
  {
   "cell_type": "code",
   "execution_count": 326,
   "metadata": {
    "scrolled": true
   },
   "outputs": [
    {
     "data": {
      "image/png": "[encoded data removed]",
      "text/plain": [
       "<Figure size 432x288 with 1 Axes>"
      ]
     },
     "metadata": {
      "needs_background": "light"
     },
     "output_type": "display_data"
    }
   ],
   "source": [
    "sns.distplot(df1['annual_salary'])\n",
    "plt.title('Univariate distribution of amount')\n",
    "plt.show()"
   ]
  },
  {
   "cell_type": "code",
   "execution_count": 327,
   "metadata": {},
   "outputs": [
    {
     "data": {
      "image/png": "[encoded data removed]",
      "text/plain": [
       "<Figure size 432x288 with 1 Axes>"
      ]
     },
     "metadata": {
      "needs_background": "light"
     },
     "output_type": "display_data"
    }
   ],
   "source": [
    "sns.distplot(np.log(df1['annual_salary']))\n",
    "plt.title('Univariate distribution of log of amount')\n",
    "plt.show()"
   ]
  },
  {
   "cell_type": "markdown",
   "metadata": {},
   "source": [
    "<h3>Adding the log amount value and removing the older one</h3>"
   ]
  },
  {
   "cell_type": "code",
   "execution_count": 328,
   "metadata": {},
   "outputs": [],
   "source": [
    "df1['log_annual_salary'] = np.log(df1['annual_salary'])"
   ]
  },
  {
   "cell_type": "code",
   "execution_count": 329,
   "metadata": {},
   "outputs": [],
   "source": [
    "df1.drop('amount',axis=1,inplace=True)"
   ]
  },
  {
   "cell_type": "code",
   "execution_count": 330,
   "metadata": {},
   "outputs": [
    {
     "data": {
      "text/plain": [
       "(883, 14)"
      ]
     },
     "execution_count": 330,
     "metadata": {},
     "output_type": "execute_result"
    }
   ],
   "source": [
    "df1.shape"
   ]
  },
  {
   "cell_type": "code",
   "execution_count": 331,
   "metadata": {},
   "outputs": [],
   "source": [
    "df1.reset_index(inplace=True)\n",
    "df1.drop('customer_id',axis=1,inplace=True)"
   ]
  },
  {
   "cell_type": "markdown",
   "metadata": {},
   "source": [
    "<h2>Predictive modeling</h2>"
   ]
  },
  {
   "cell_type": "markdown",
   "metadata": {},
   "source": [
    "<h3>Train-test data-sets for model</h3>"
   ]
  },
  {
   "cell_type": "code",
   "execution_count": 371,
   "metadata": {
    "scrolled": true
   },
   "outputs": [],
   "source": [
    "X = df1.drop(['annual_salary','log_annual_salary'],axis=1)\n",
    "y = df1['annual_salary']"
   ]
  },
  {
   "cell_type": "code",
   "execution_count": 372,
   "metadata": {},
   "outputs": [
    {
     "data": {
      "text/html": [
       "<div>\n",
       "<style scoped>\n",
       "    .dataframe tbody tr th:only-of-type {\n",
       "        vertical-align: middle;\n",
       "    }\n",
       "\n",
       "    .dataframe tbody tr th {\n",
       "        vertical-align: top;\n",
       "    }\n",
       "\n",
       "    .dataframe thead th {\n",
       "        text-align: right;\n",
       "    }\n",
       "</style>\n",
       "<table border=\"1\" class=\"dataframe\">\n",
       "  <thead>\n",
       "    <tr style=\"text-align: right;\">\n",
       "      <th></th>\n",
       "      <th>gender</th>\n",
       "      <th>age</th>\n",
       "      <th>INTER_BANK</th>\n",
       "      <th>PAYMENT</th>\n",
       "      <th>PHONE BANK</th>\n",
       "      <th>POS</th>\n",
       "      <th>PAY/SALARY</th>\n",
       "      <th>SALES-POS</th>\n",
       "      <th>POS_Amount</th>\n",
       "      <th>SALES-POS_Amount</th>\n",
       "      <th>PHONE BANK Amount</th>\n",
       "      <th>INTER_BANK_AMOUNT</th>\n",
       "    </tr>\n",
       "  </thead>\n",
       "  <tbody>\n",
       "    <tr>\n",
       "      <td>0</td>\n",
       "      <td>0</td>\n",
       "      <td>23</td>\n",
       "      <td>17.0</td>\n",
       "      <td>28.0</td>\n",
       "      <td>0.0</td>\n",
       "      <td>35.0</td>\n",
       "      <td>28.0</td>\n",
       "      <td>29.0</td>\n",
       "      <td>1787.65</td>\n",
       "      <td>1427.90</td>\n",
       "      <td>0.0</td>\n",
       "      <td>701.0</td>\n",
       "    </tr>\n",
       "    <tr>\n",
       "      <td>1</td>\n",
       "      <td>1</td>\n",
       "      <td>23</td>\n",
       "      <td>1.0</td>\n",
       "      <td>65.0</td>\n",
       "      <td>0.0</td>\n",
       "      <td>2.0</td>\n",
       "      <td>65.0</td>\n",
       "      <td>2.0</td>\n",
       "      <td>31.26</td>\n",
       "      <td>19.24</td>\n",
       "      <td>0.0</td>\n",
       "      <td>213.0</td>\n",
       "    </tr>\n",
       "    <tr>\n",
       "      <td>2</td>\n",
       "      <td>0</td>\n",
       "      <td>22</td>\n",
       "      <td>0.0</td>\n",
       "      <td>6.0</td>\n",
       "      <td>3.0</td>\n",
       "      <td>15.0</td>\n",
       "      <td>6.0</td>\n",
       "      <td>9.0</td>\n",
       "      <td>604.72</td>\n",
       "      <td>356.21</td>\n",
       "      <td>474.0</td>\n",
       "      <td>0.0</td>\n",
       "    </tr>\n",
       "    <tr>\n",
       "      <td>3</td>\n",
       "      <td>0</td>\n",
       "      <td>24</td>\n",
       "      <td>0.0</td>\n",
       "      <td>38.0</td>\n",
       "      <td>0.0</td>\n",
       "      <td>53.0</td>\n",
       "      <td>38.0</td>\n",
       "      <td>57.0</td>\n",
       "      <td>2251.27</td>\n",
       "      <td>1741.53</td>\n",
       "      <td>0.0</td>\n",
       "      <td>0.0</td>\n",
       "    </tr>\n",
       "    <tr>\n",
       "      <td>4</td>\n",
       "      <td>1</td>\n",
       "      <td>43</td>\n",
       "      <td>3.0</td>\n",
       "      <td>32.0</td>\n",
       "      <td>0.0</td>\n",
       "      <td>42.0</td>\n",
       "      <td>32.0</td>\n",
       "      <td>43.0</td>\n",
       "      <td>2815.62</td>\n",
       "      <td>2124.94</td>\n",
       "      <td>0.0</td>\n",
       "      <td>591.0</td>\n",
       "    </tr>\n",
       "  </tbody>\n",
       "</table>\n",
       "</div>"
      ],
      "text/plain": [
       "   gender  age  INTER_BANK  PAYMENT  PHONE BANK   POS  PAY/SALARY  SALES-POS  \\\n",
       "0       0   23        17.0     28.0         0.0  35.0        28.0       29.0   \n",
       "1       1   23         1.0     65.0         0.0   2.0        65.0        2.0   \n",
       "2       0   22         0.0      6.0         3.0  15.0         6.0        9.0   \n",
       "3       0   24         0.0     38.0         0.0  53.0        38.0       57.0   \n",
       "4       1   43         3.0     32.0         0.0  42.0        32.0       43.0   \n",
       "\n",
       "   POS_Amount  SALES-POS_Amount  PHONE BANK Amount  INTER_BANK_AMOUNT  \n",
       "0     1787.65           1427.90                0.0              701.0  \n",
       "1       31.26             19.24                0.0              213.0  \n",
       "2      604.72            356.21              474.0                0.0  \n",
       "3     2251.27           1741.53                0.0                0.0  \n",
       "4     2815.62           2124.94                0.0              591.0  "
      ]
     },
     "execution_count": 372,
     "metadata": {},
     "output_type": "execute_result"
    }
   ],
   "source": [
    "X.head()"
   ]
  },
  {
   "cell_type": "code",
   "execution_count": 373,
   "metadata": {},
   "outputs": [
    {
     "data": {
      "text/plain": [
       "0      10.754651\n",
       "1       9.879080\n",
       "2       9.375882\n",
       "3       9.734889\n",
       "4       9.458487\n",
       "         ...    \n",
       "878     9.486981\n",
       "879     9.539486\n",
       "880     9.434878\n",
       "881     9.725908\n",
       "882    10.363350\n",
       "Name: annual_salary, Length: 883, dtype: float64"
      ]
     },
     "execution_count": 373,
     "metadata": {},
     "output_type": "execute_result"
    }
   ],
   "source": [
    "y = np.log(y)\n",
    "y"
   ]
  },
  {
   "cell_type": "markdown",
   "metadata": {},
   "source": [
    "Here, we used `test_size` as 0.15. Our dataset is quite small as we need enough data for the model to train on, <b>therefore we used an 85-15 train-test split</b>"
   ]
  },
  {
   "cell_type": "code",
   "execution_count": 374,
   "metadata": {},
   "outputs": [],
   "source": [
    "X_train, X_test, y_train, y_test = train_test_split(X,y,test_size=0.15)"
   ]
  },
  {
   "cell_type": "code",
   "execution_count": 375,
   "metadata": {},
   "outputs": [
    {
     "name": "stdout",
     "output_type": "stream",
     "text": [
      "(750, 12)\n",
      "(133, 12)\n",
      "(750,)\n",
      "(133,)\n"
     ]
    }
   ],
   "source": [
    "print(X_train.shape)\n",
    "print(X_test.shape)\n",
    "print(y_train.shape)\n",
    "print(y_test.shape)"
   ]
  },
  {
   "cell_type": "code",
   "execution_count": 376,
   "metadata": {},
   "outputs": [
    {
     "data": {
      "text/plain": [
       "Index(['gender', 'age', 'INTER_BANK', 'PAYMENT', 'PHONE BANK', 'POS',\n",
       "       'PAY/SALARY', 'SALES-POS', 'POS_Amount', 'SALES-POS_Amount',\n",
       "       'PHONE BANK Amount', 'INTER_BANK_AMOUNT'],\n",
       "      dtype='object')"
      ]
     },
     "execution_count": 376,
     "metadata": {},
     "output_type": "execute_result"
    }
   ],
   "source": [
    "X.columns"
   ]
  },
  {
   "cell_type": "markdown",
   "metadata": {},
   "source": [
    "<h3>Scaling the data with sparse ranges</h3>"
   ]
  },
  {
   "cell_type": "markdown",
   "metadata": {},
   "source": [
    "We scale the data to get a more robust normalized model which performs more accurate predictions and runs more efficiently."
   ]
  },
  {
   "cell_type": "code",
   "execution_count": 377,
   "metadata": {},
   "outputs": [],
   "source": [
    "cols_to_scale = ['POS_Amount','SALES-POS_Amount','PHONE BANK Amount','INTER_BANK_AMOUNT']\n",
    "\n",
    "s = MinMaxScaler()\n",
    "X_train[cols_to_scale] = s.fit_transform(X_train[cols_to_scale])\n",
    "X_test[cols_to_scale] = s.transform(X_test[cols_to_scale])"
   ]
  },
  {
   "cell_type": "code",
   "execution_count": 378,
   "metadata": {},
   "outputs": [
    {
     "data": {
      "text/html": [
       "<div>\n",
       "<style scoped>\n",
       "    .dataframe tbody tr th:only-of-type {\n",
       "        vertical-align: middle;\n",
       "    }\n",
       "\n",
       "    .dataframe tbody tr th {\n",
       "        vertical-align: top;\n",
       "    }\n",
       "\n",
       "    .dataframe thead th {\n",
       "        text-align: right;\n",
       "    }\n",
       "</style>\n",
       "<table border=\"1\" class=\"dataframe\">\n",
       "  <thead>\n",
       "    <tr style=\"text-align: right;\">\n",
       "      <th></th>\n",
       "      <th>gender</th>\n",
       "      <th>age</th>\n",
       "      <th>INTER_BANK</th>\n",
       "      <th>PAYMENT</th>\n",
       "      <th>PHONE BANK</th>\n",
       "      <th>POS</th>\n",
       "      <th>PAY/SALARY</th>\n",
       "      <th>SALES-POS</th>\n",
       "      <th>POS_Amount</th>\n",
       "      <th>SALES-POS_Amount</th>\n",
       "      <th>PHONE BANK Amount</th>\n",
       "      <th>INTER_BANK_AMOUNT</th>\n",
       "    </tr>\n",
       "  </thead>\n",
       "  <tbody>\n",
       "    <tr>\n",
       "      <td>543</td>\n",
       "      <td>1</td>\n",
       "      <td>20</td>\n",
       "      <td>20.0</td>\n",
       "      <td>31.0</td>\n",
       "      <td>0.0</td>\n",
       "      <td>55.0</td>\n",
       "      <td>31.0</td>\n",
       "      <td>46.0</td>\n",
       "      <td>0.196053</td>\n",
       "      <td>0.474465</td>\n",
       "      <td>0.000000</td>\n",
       "      <td>0.306800</td>\n",
       "    </tr>\n",
       "    <tr>\n",
       "      <td>623</td>\n",
       "      <td>1</td>\n",
       "      <td>20</td>\n",
       "      <td>19.0</td>\n",
       "      <td>13.0</td>\n",
       "      <td>0.0</td>\n",
       "      <td>71.0</td>\n",
       "      <td>13.0</td>\n",
       "      <td>83.0</td>\n",
       "      <td>0.204409</td>\n",
       "      <td>0.498509</td>\n",
       "      <td>0.000000</td>\n",
       "      <td>0.416183</td>\n",
       "    </tr>\n",
       "    <tr>\n",
       "      <td>177</td>\n",
       "      <td>0</td>\n",
       "      <td>40</td>\n",
       "      <td>23.0</td>\n",
       "      <td>37.0</td>\n",
       "      <td>0.0</td>\n",
       "      <td>12.0</td>\n",
       "      <td>37.0</td>\n",
       "      <td>29.0</td>\n",
       "      <td>0.063328</td>\n",
       "      <td>0.152673</td>\n",
       "      <td>0.000000</td>\n",
       "      <td>0.304428</td>\n",
       "    </tr>\n",
       "    <tr>\n",
       "      <td>599</td>\n",
       "      <td>1</td>\n",
       "      <td>23</td>\n",
       "      <td>1.0</td>\n",
       "      <td>65.0</td>\n",
       "      <td>0.0</td>\n",
       "      <td>2.0</td>\n",
       "      <td>65.0</td>\n",
       "      <td>2.0</td>\n",
       "      <td>0.001398</td>\n",
       "      <td>0.003335</td>\n",
       "      <td>0.000000</td>\n",
       "      <td>0.056141</td>\n",
       "    </tr>\n",
       "    <tr>\n",
       "      <td>589</td>\n",
       "      <td>1</td>\n",
       "      <td>18</td>\n",
       "      <td>3.0</td>\n",
       "      <td>14.0</td>\n",
       "      <td>0.0</td>\n",
       "      <td>39.0</td>\n",
       "      <td>14.0</td>\n",
       "      <td>29.0</td>\n",
       "      <td>0.122576</td>\n",
       "      <td>0.094808</td>\n",
       "      <td>0.000000</td>\n",
       "      <td>0.121771</td>\n",
       "    </tr>\n",
       "    <tr>\n",
       "      <td>...</td>\n",
       "      <td>...</td>\n",
       "      <td>...</td>\n",
       "      <td>...</td>\n",
       "      <td>...</td>\n",
       "      <td>...</td>\n",
       "      <td>...</td>\n",
       "      <td>...</td>\n",
       "      <td>...</td>\n",
       "      <td>...</td>\n",
       "      <td>...</td>\n",
       "      <td>...</td>\n",
       "      <td>...</td>\n",
       "    </tr>\n",
       "    <tr>\n",
       "      <td>804</td>\n",
       "      <td>1</td>\n",
       "      <td>23</td>\n",
       "      <td>1.0</td>\n",
       "      <td>65.0</td>\n",
       "      <td>0.0</td>\n",
       "      <td>2.0</td>\n",
       "      <td>65.0</td>\n",
       "      <td>2.0</td>\n",
       "      <td>0.001398</td>\n",
       "      <td>0.003335</td>\n",
       "      <td>0.000000</td>\n",
       "      <td>0.056141</td>\n",
       "    </tr>\n",
       "    <tr>\n",
       "      <td>135</td>\n",
       "      <td>0</td>\n",
       "      <td>22</td>\n",
       "      <td>0.0</td>\n",
       "      <td>6.0</td>\n",
       "      <td>3.0</td>\n",
       "      <td>15.0</td>\n",
       "      <td>6.0</td>\n",
       "      <td>9.0</td>\n",
       "      <td>0.071126</td>\n",
       "      <td>0.061751</td>\n",
       "      <td>0.247390</td>\n",
       "      <td>0.000000</td>\n",
       "    </tr>\n",
       "    <tr>\n",
       "      <td>127</td>\n",
       "      <td>1</td>\n",
       "      <td>53</td>\n",
       "      <td>0.0</td>\n",
       "      <td>9.0</td>\n",
       "      <td>3.0</td>\n",
       "      <td>26.0</td>\n",
       "      <td>9.0</td>\n",
       "      <td>22.0</td>\n",
       "      <td>0.088548</td>\n",
       "      <td>0.184250</td>\n",
       "      <td>0.284969</td>\n",
       "      <td>0.000000</td>\n",
       "    </tr>\n",
       "    <tr>\n",
       "      <td>175</td>\n",
       "      <td>1</td>\n",
       "      <td>24</td>\n",
       "      <td>16.0</td>\n",
       "      <td>30.0</td>\n",
       "      <td>0.0</td>\n",
       "      <td>95.0</td>\n",
       "      <td>30.0</td>\n",
       "      <td>106.0</td>\n",
       "      <td>0.443570</td>\n",
       "      <td>0.461508</td>\n",
       "      <td>0.000000</td>\n",
       "      <td>0.176595</td>\n",
       "    </tr>\n",
       "    <tr>\n",
       "      <td>222</td>\n",
       "      <td>1</td>\n",
       "      <td>25</td>\n",
       "      <td>3.0</td>\n",
       "      <td>41.0</td>\n",
       "      <td>0.0</td>\n",
       "      <td>85.0</td>\n",
       "      <td>41.0</td>\n",
       "      <td>88.0</td>\n",
       "      <td>0.211426</td>\n",
       "      <td>0.559013</td>\n",
       "      <td>0.000000</td>\n",
       "      <td>0.098050</td>\n",
       "    </tr>\n",
       "  </tbody>\n",
       "</table>\n",
       "<p>750 rows × 12 columns</p>\n",
       "</div>"
      ],
      "text/plain": [
       "     gender  age  INTER_BANK  PAYMENT  PHONE BANK   POS  PAY/SALARY  \\\n",
       "543       1   20        20.0     31.0         0.0  55.0        31.0   \n",
       "623       1   20        19.0     13.0         0.0  71.0        13.0   \n",
       "177       0   40        23.0     37.0         0.0  12.0        37.0   \n",
       "599       1   23         1.0     65.0         0.0   2.0        65.0   \n",
       "589       1   18         3.0     14.0         0.0  39.0        14.0   \n",
       "..      ...  ...         ...      ...         ...   ...         ...   \n",
       "804       1   23         1.0     65.0         0.0   2.0        65.0   \n",
       "135       0   22         0.0      6.0         3.0  15.0         6.0   \n",
       "127       1   53         0.0      9.0         3.0  26.0         9.0   \n",
       "175       1   24        16.0     30.0         0.0  95.0        30.0   \n",
       "222       1   25         3.0     41.0         0.0  85.0        41.0   \n",
       "\n",
       "     SALES-POS  POS_Amount  SALES-POS_Amount  PHONE BANK Amount  \\\n",
       "543       46.0    0.196053          0.474465           0.000000   \n",
       "623       83.0    0.204409          0.498509           0.000000   \n",
       "177       29.0    0.063328          0.152673           0.000000   \n",
       "599        2.0    0.001398          0.003335           0.000000   \n",
       "589       29.0    0.122576          0.094808           0.000000   \n",
       "..         ...         ...               ...                ...   \n",
       "804        2.0    0.001398          0.003335           0.000000   \n",
       "135        9.0    0.071126          0.061751           0.247390   \n",
       "127       22.0    0.088548          0.184250           0.284969   \n",
       "175      106.0    0.443570          0.461508           0.000000   \n",
       "222       88.0    0.211426          0.559013           0.000000   \n",
       "\n",
       "     INTER_BANK_AMOUNT  \n",
       "543           0.306800  \n",
       "623           0.416183  \n",
       "177           0.304428  \n",
       "599           0.056141  \n",
       "589           0.121771  \n",
       "..                 ...  \n",
       "804           0.056141  \n",
       "135           0.000000  \n",
       "127           0.000000  \n",
       "175           0.176595  \n",
       "222           0.098050  \n",
       "\n",
       "[750 rows x 12 columns]"
      ]
     },
     "execution_count": 378,
     "metadata": {},
     "output_type": "execute_result"
    }
   ],
   "source": [
    "X_train"
   ]
  },
  {
   "cell_type": "code",
   "execution_count": 379,
   "metadata": {},
   "outputs": [
    {
     "data": {
      "text/html": [
       "<div>\n",
       "<style scoped>\n",
       "    .dataframe tbody tr th:only-of-type {\n",
       "        vertical-align: middle;\n",
       "    }\n",
       "\n",
       "    .dataframe tbody tr th {\n",
       "        vertical-align: top;\n",
       "    }\n",
       "\n",
       "    .dataframe thead th {\n",
       "        text-align: right;\n",
       "    }\n",
       "</style>\n",
       "<table border=\"1\" class=\"dataframe\">\n",
       "  <thead>\n",
       "    <tr style=\"text-align: right;\">\n",
       "      <th></th>\n",
       "      <th>gender</th>\n",
       "      <th>age</th>\n",
       "      <th>INTER_BANK</th>\n",
       "      <th>PAYMENT</th>\n",
       "      <th>PHONE BANK</th>\n",
       "      <th>POS</th>\n",
       "      <th>PAY/SALARY</th>\n",
       "      <th>SALES-POS</th>\n",
       "      <th>POS_Amount</th>\n",
       "      <th>SALES-POS_Amount</th>\n",
       "      <th>PHONE BANK Amount</th>\n",
       "      <th>INTER_BANK_AMOUNT</th>\n",
       "    </tr>\n",
       "  </thead>\n",
       "  <tbody>\n",
       "    <tr>\n",
       "      <td>53</td>\n",
       "      <td>0</td>\n",
       "      <td>28</td>\n",
       "      <td>0.0</td>\n",
       "      <td>35.0</td>\n",
       "      <td>12.0</td>\n",
       "      <td>50.0</td>\n",
       "      <td>35.0</td>\n",
       "      <td>65.0</td>\n",
       "      <td>0.270024</td>\n",
       "      <td>0.627937</td>\n",
       "      <td>0.363257</td>\n",
       "      <td>0.000000</td>\n",
       "    </tr>\n",
       "    <tr>\n",
       "      <td>339</td>\n",
       "      <td>1</td>\n",
       "      <td>19</td>\n",
       "      <td>12.0</td>\n",
       "      <td>15.0</td>\n",
       "      <td>0.0</td>\n",
       "      <td>9.0</td>\n",
       "      <td>15.0</td>\n",
       "      <td>9.0</td>\n",
       "      <td>0.050609</td>\n",
       "      <td>0.053853</td>\n",
       "      <td>0.000000</td>\n",
       "      <td>0.069584</td>\n",
       "    </tr>\n",
       "    <tr>\n",
       "      <td>251</td>\n",
       "      <td>0</td>\n",
       "      <td>42</td>\n",
       "      <td>3.0</td>\n",
       "      <td>17.0</td>\n",
       "      <td>0.0</td>\n",
       "      <td>5.0</td>\n",
       "      <td>17.0</td>\n",
       "      <td>9.0</td>\n",
       "      <td>0.023083</td>\n",
       "      <td>0.111909</td>\n",
       "      <td>0.000000</td>\n",
       "      <td>0.125725</td>\n",
       "    </tr>\n",
       "    <tr>\n",
       "      <td>480</td>\n",
       "      <td>0</td>\n",
       "      <td>42</td>\n",
       "      <td>13.0</td>\n",
       "      <td>12.0</td>\n",
       "      <td>0.0</td>\n",
       "      <td>27.0</td>\n",
       "      <td>12.0</td>\n",
       "      <td>22.0</td>\n",
       "      <td>0.184691</td>\n",
       "      <td>0.192257</td>\n",
       "      <td>0.000000</td>\n",
       "      <td>0.068529</td>\n",
       "    </tr>\n",
       "    <tr>\n",
       "      <td>224</td>\n",
       "      <td>1</td>\n",
       "      <td>24</td>\n",
       "      <td>3.0</td>\n",
       "      <td>27.0</td>\n",
       "      <td>0.0</td>\n",
       "      <td>28.0</td>\n",
       "      <td>27.0</td>\n",
       "      <td>17.0</td>\n",
       "      <td>0.083608</td>\n",
       "      <td>0.081314</td>\n",
       "      <td>0.000000</td>\n",
       "      <td>0.146284</td>\n",
       "    </tr>\n",
       "  </tbody>\n",
       "</table>\n",
       "</div>"
      ],
      "text/plain": [
       "     gender  age  INTER_BANK  PAYMENT  PHONE BANK   POS  PAY/SALARY  \\\n",
       "53        0   28         0.0     35.0        12.0  50.0        35.0   \n",
       "339       1   19        12.0     15.0         0.0   9.0        15.0   \n",
       "251       0   42         3.0     17.0         0.0   5.0        17.0   \n",
       "480       0   42        13.0     12.0         0.0  27.0        12.0   \n",
       "224       1   24         3.0     27.0         0.0  28.0        27.0   \n",
       "\n",
       "     SALES-POS  POS_Amount  SALES-POS_Amount  PHONE BANK Amount  \\\n",
       "53        65.0    0.270024          0.627937           0.363257   \n",
       "339        9.0    0.050609          0.053853           0.000000   \n",
       "251        9.0    0.023083          0.111909           0.000000   \n",
       "480       22.0    0.184691          0.192257           0.000000   \n",
       "224       17.0    0.083608          0.081314           0.000000   \n",
       "\n",
       "     INTER_BANK_AMOUNT  \n",
       "53            0.000000  \n",
       "339           0.069584  \n",
       "251           0.125725  \n",
       "480           0.068529  \n",
       "224           0.146284  "
      ]
     },
     "execution_count": 379,
     "metadata": {},
     "output_type": "execute_result"
    }
   ],
   "source": [
    "X_test.head()"
   ]
  },
  {
   "cell_type": "code",
   "execution_count": 380,
   "metadata": {
    "scrolled": true
   },
   "outputs": [
    {
     "data": {
      "text/plain": [
       "543     9.725908\n",
       "623     9.522628\n",
       "177    10.216995\n",
       "599     9.879080\n",
       "589     9.119974\n",
       "Name: annual_salary, dtype: float64"
      ]
     },
     "execution_count": 380,
     "metadata": {},
     "output_type": "execute_result"
    }
   ],
   "source": [
    "y_train.head()"
   ]
  },
  {
   "cell_type": "markdown",
   "metadata": {},
   "source": [
    "<h2>Scatter plots and predictions with one feature at a time</h2>"
   ]
  },
  {
   "cell_type": "markdown",
   "metadata": {},
   "source": [
    "<h3>Age vs Amount predictions</h3>"
   ]
  },
  {
   "cell_type": "code",
   "execution_count": 381,
   "metadata": {},
   "outputs": [
    {
     "data": {
      "image/png": "[encoded data removed]",
      "text/plain": [
       "<Figure size 720x720 with 1 Axes>"
      ]
     },
     "metadata": {
      "needs_background": "light"
     },
     "output_type": "display_data"
    }
   ],
   "source": [
    "clf = LinearRegression()\n",
    "clf.fit(np.array(X_train['age']).reshape(-1,1),y_train)\n",
    "y_pred = clf.predict(np.array(X_test['age']).reshape(-1,1))\n",
    "fig, ax = plt.subplots(figsize=(10,10))\n",
    "ax.set_xlabel('Age')\n",
    "ax.set_ylabel('Amount')\n",
    "ax.set_title('Predictive Analysis of Amount with respect to Age')\n",
    "ax.scatter(X_test['age'],y_test,edgecolor='w')\n",
    "ax.plot(X_test['age'], y_pred, color='green',linewidth=1.5)\n",
    "plt.show()"
   ]
  },
  {
   "cell_type": "markdown",
   "metadata": {},
   "source": [
    "<h3>Amount vs POS Amount Scaled</h3>"
   ]
  },
  {
   "cell_type": "code",
   "execution_count": 382,
   "metadata": {},
   "outputs": [
    {
     "data": {
      "image/png": "[encoded data removed]",
      "text/plain": [
       "<Figure size 720x720 with 1 Axes>"
      ]
     },
     "metadata": {
      "needs_background": "light"
     },
     "output_type": "display_data"
    }
   ],
   "source": [
    "clf = LinearRegression()\n",
    "clf.fit(np.array(X_train['POS_Amount']).reshape(-1,1),y_train)\n",
    "y_pred = clf.predict(np.array(X_test['POS_Amount']).reshape(-1,1))\n",
    "fig, ax = plt.subplots(figsize=(10,10))\n",
    "ax.set_xlabel('POS_Amount')\n",
    "ax.set_ylabel('Amount')\n",
    "ax.set_title('Predictive Analysis of Amount with Scaled POS Amount')\n",
    "ax.scatter(X_test['POS_Amount'],y_test,edgecolor='w')\n",
    "ax.plot(X_test['POS_Amount'], y_pred, color='green',linewidth=1.5)\n",
    "plt.show()"
   ]
  },
  {
   "cell_type": "markdown",
   "metadata": {},
   "source": [
    "<h3>Amount vs SALES-POS Amount Scaled</h3>"
   ]
  },
  {
   "cell_type": "code",
   "execution_count": 383,
   "metadata": {},
   "outputs": [
    {
     "data": {
      "image/png": "[encoded data removed]",
      "text/plain": [
       "<Figure size 720x720 with 1 Axes>"
      ]
     },
     "metadata": {
      "needs_background": "light"
     },
     "output_type": "display_data"
    }
   ],
   "source": [
    "clf = LinearRegression()\n",
    "clf.fit(np.array(X_train['SALES-POS_Amount']).reshape(-1,1),y_train)\n",
    "y_pred = clf.predict(np.array(X_test['SALES-POS_Amount']).reshape(-1,1))\n",
    "fig, ax = plt.subplots(figsize=(10,10))\n",
    "ax.set_xlabel('SALES-POS_Amount')\n",
    "ax.set_ylabel('Amount')\n",
    "ax.set_title('Predictive Analysis of Amount with Scaled POS Amount')\n",
    "ax.scatter(X_test['SALES-POS_Amount'],y_test,edgecolor='w')\n",
    "ax.plot(X_test['SALES-POS_Amount'], y_pred, color='green',linewidth=1.5)\n",
    "plt.show()"
   ]
  },
  {
   "cell_type": "markdown",
   "metadata": {},
   "source": [
    "<h3>Amount vs PHONE BANK Amount Scaled</h3>"
   ]
  },
  {
   "cell_type": "code",
   "execution_count": 384,
   "metadata": {},
   "outputs": [
    {
     "data": {
      "image/png": "[encoded data removed]",
      "text/plain": [
       "<Figure size 720x720 with 1 Axes>"
      ]
     },
     "metadata": {
      "needs_background": "light"
     },
     "output_type": "display_data"
    }
   ],
   "source": [
    "clf = LinearRegression()\n",
    "clf.fit(np.array(X_train['PHONE BANK Amount']).reshape(-1,1),y_train)\n",
    "y_pred = clf.predict(np.array(X_test['PHONE BANK Amount']).reshape(-1,1))\n",
    "fig, ax = plt.subplots(figsize=(10,10))\n",
    "ax.set_xlabel('PHONE BANK Amount')\n",
    "ax.set_ylabel('Amount')\n",
    "ax.set_title('Predictive Analysis of Amount with Scaled POS Amount')\n",
    "ax.scatter(X_test['PHONE BANK Amount'],y_test,edgecolor='w')\n",
    "ax.plot(X_test['PHONE BANK Amount'], y_pred, color='green',linewidth=1.5)\n",
    "plt.show()"
   ]
  },
  {
   "cell_type": "markdown",
   "metadata": {},
   "source": [
    "<h3>Amount Vs Sales-POS</h3>"
   ]
  },
  {
   "cell_type": "code",
   "execution_count": 385,
   "metadata": {},
   "outputs": [
    {
     "data": {
      "image/png": "[encoded data removed]",
      "text/plain": [
       "<Figure size 720x720 with 1 Axes>"
      ]
     },
     "metadata": {
      "needs_background": "light"
     },
     "output_type": "display_data"
    }
   ],
   "source": [
    "clf = LinearRegression()\n",
    "clf.fit(np.array(X_train['SALES-POS']).reshape(-1,1),y_train)\n",
    "y_pred = clf.predict(np.array(X_test['SALES-POS']).reshape(-1,1))\n",
    "fig, ax = plt.subplots(figsize=(10,10))\n",
    "ax.set_xlabel('PHONE BANK Amount')\n",
    "ax.set_ylabel('Amount')\n",
    "ax.set_title('Predictive Analysis of Amount with SALES-POS')\n",
    "ax.scatter(X_test['SALES-POS'],y_test,edgecolor='w')\n",
    "ax.plot(X_test['SALES-POS'], y_pred, color='green',linewidth=1.5)\n",
    "plt.show()"
   ]
  },
  {
   "cell_type": "markdown",
   "metadata": {},
   "source": [
    "<h2>Feature Importances</h2>"
   ]
  },
  {
   "cell_type": "markdown",
   "metadata": {},
   "source": [
    "We use popular regressors to return feature importances in the dataset. This can be used for further analysis and studies. It is a means to define the features that are the most impactful and critical to our target variable, which here is the `annual_salary`."
   ]
  },
  {
   "cell_type": "code",
   "execution_count": 386,
   "metadata": {},
   "outputs": [
    {
     "data": {
      "image/png": "[encoded data removed]",
      "text/plain": [
       "<Figure size 720x432 with 1 Axes>"
      ]
     },
     "metadata": {
      "needs_background": "light"
     },
     "output_type": "display_data"
    }
   ],
   "source": [
    "ada = AdaBoostRegressor()\n",
    "ada.fit(X_train,y_train)\n",
    "l1 = np.argsort(ada.feature_importances_)[::-1][:5]\n",
    "plt.figure(figsize=(10,6))\n",
    "g1 = sns.barplot(y=X_train.columns[l1][:5],x=ada.feature_importances_[l1][:5],orient='h')\n",
    "g1.set_xlabel('Relative importance')\n",
    "g1.set_ylabel('Features')\n",
    "g1.set_title('Adaboost Feature importance')\n",
    "plt.show()"
   ]
  },
  {
   "cell_type": "code",
   "execution_count": 387,
   "metadata": {
    "scrolled": false
   },
   "outputs": [
    {
     "data": {
      "image/png": "[encoded data removed]",
      "text/plain": [
       "<Figure size 720x432 with 1 Axes>"
      ]
     },
     "metadata": {
      "needs_background": "light"
     },
     "output_type": "display_data"
    }
   ],
   "source": [
    "etc = ExtraTreesRegressor()\n",
    "etc.fit(X_train,y_train)\n",
    "e1 = np.argsort(etc.feature_importances_)[::-1][:5]\n",
    "plt.figure(figsize=(10,6))\n",
    "g2 = sns.barplot(y=X_train.columns[e1][:5],x=etc.feature_importances_[e1][:5],orient='h')\n",
    "g2.set_xlabel('Relative importance')\n",
    "g2.set_ylabel('Features')\n",
    "g2.set_title('ExtraTreesClassifier Feature importance')\n",
    "plt.show()"
   ]
  },
  {
   "cell_type": "code",
   "execution_count": 388,
   "metadata": {},
   "outputs": [
    {
     "data": {
      "image/png": "[encoded data removed]",
      "text/plain": [
       "<Figure size 720x432 with 1 Axes>"
      ]
     },
     "metadata": {
      "needs_background": "light"
     },
     "output_type": "display_data"
    }
   ],
   "source": [
    "rf_b = RandomForestRegressor()\n",
    "rf_b.fit(X_train,y_train)\n",
    "f1 = np.argsort(rf_b.feature_importances_)[::-1][:5]\n",
    "plt.figure(figsize=(10,6))\n",
    "g3 = sns.barplot(y=X_train.columns[f1][:5],x=rf_b.feature_importances_[f1][:5],orient='h')\n",
    "g3.set_xlabel('Relative importance')\n",
    "g3.set_ylabel('Features')\n",
    "g3.set_title('Random forest Feature importance')\n",
    "plt.show()"
   ]
  },
  {
   "cell_type": "markdown",
   "metadata": {},
   "source": [
    "<h3>Predictive analysis through a slew of basic regressor classifiers</h3>"
   ]
  },
  {
   "cell_type": "code",
   "execution_count": 389,
   "metadata": {},
   "outputs": [],
   "source": [
    "random_state = 0\n",
    "models = []\n",
    "models.append(LinearRegression())\n",
    "models.append(DecisionTreeRegressor(random_state=random_state))\n",
    "models.append(AdaBoostRegressor(random_state=random_state))\n",
    "models.append(RandomForestRegressor(random_state=random_state))\n",
    "models.append(ExtraTreesRegressor(random_state=random_state))\n",
    "models.append(GradientBoostingRegressor(random_state=random_state))\n",
    "models.append(MLPRegressor(random_state=random_state))\n",
    "models.append(KNeighborsRegressor())\n",
    "models.append(XGBRegressor(random_state=random_state))"
   ]
  },
  {
   "cell_type": "code",
   "execution_count": 390,
   "metadata": {},
   "outputs": [
    {
     "name": "stdout",
     "output_type": "stream",
     "text": [
      "[12:01:48] WARNING: src/objective/regression_obj.cu:152: reg:linear is now deprecated in favor of reg:squarederror.\n"
     ]
    }
   ],
   "source": [
    "error = []\n",
    "for regressor in models:\n",
    "    regressor.fit(X_train,y_train)\n",
    "    y_pred = regressor.predict(X_test)\n",
    "    acc = mean_squared_error(y_test,y_pred)\n",
    "    error.append(acc)\n",
    "\n",
    "#['Linear Regression','Decision Tree','AdaBoost','RandomForest','Extra Trees','Gradient Boosting', 'Multi-layer-perceptron','K-NearestNeighbors','XBGRegressor']"
   ]
  },
  {
   "cell_type": "markdown",
   "metadata": {},
   "source": [
    "<h3>MSE (mean squared error) values aquired after predictions</h3>"
   ]
  },
  {
   "cell_type": "markdown",
   "metadata": {},
   "source": [
    "We see that almost all of our predictions have very less MSE, the model has proven to be very effective."
   ]
  },
  {
   "cell_type": "code",
   "execution_count": 391,
   "metadata": {},
   "outputs": [
    {
     "data": {
      "text/plain": [
       "{'Linear Regression': 0.17803211283669618,\n",
       " 'Decision Tree Regression': 5.627088792119358e-13,\n",
       " 'AdaBoosting Regression': 0.11156212947908717,\n",
       " 'Random Forest Regression': 0.0006659648141488445,\n",
       " 'Extra Trees Regressor': 6.066016153333994e-12,\n",
       " 'Gradient Boosting Regressor': 0.008867025126664199,\n",
       " 'MLP Regressor': 0.9812089344944819,\n",
       " 'KNeighbors Regressor': 0.030400382875698975,\n",
       " 'XGB Regressor': 0.017031243956283384}"
      ]
     },
     "execution_count": 391,
     "metadata": {},
     "output_type": "execute_result"
    }
   ],
   "source": [
    "d1 = {'Linear Regression':error[0],'Decision Tree Regression':error[1],'AdaBoosting Regression':error[2],'Random Forest Regression':error[3],'Extra Trees Regressor':error[4],'Gradient Boosting Regressor':error[5],'MLP Regressor':error[6],'KNeighbors Regressor':error[7],'XGB Regressor':error[8]}\n",
    "d1"
   ]
  },
  {
   "cell_type": "markdown",
   "metadata": {},
   "source": [
    "<h3>Decision Tree Regression</h3>"
   ]
  },
  {
   "cell_type": "markdown",
   "metadata": {},
   "source": [
    "We run the Decision Tree regressor first without any form of parameter tuning. We use the default values and get the mean squared error of about <b>1.44</b>"
   ]
  },
  {
   "cell_type": "code",
   "execution_count": 392,
   "metadata": {},
   "outputs": [
    {
     "data": {
      "text/plain": [
       "5.627088792119358e-13"
      ]
     },
     "execution_count": 392,
     "metadata": {},
     "output_type": "execute_result"
    }
   ],
   "source": [
    "clf = DecisionTreeRegressor(random_state=random_state)\n",
    "clf.fit(X_train,y_train)\n",
    "y_pred = clf.predict(X_test)\n",
    "err = mean_squared_error(y_test,y_pred)\n",
    "err"
   ]
  },
  {
   "cell_type": "markdown",
   "metadata": {},
   "source": [
    "<h3>The model is overfitting, the error is too less and the accuracy of 1 cross-verifies it</h3>"
   ]
  },
  {
   "cell_type": "code",
   "execution_count": 393,
   "metadata": {},
   "outputs": [
    {
     "name": "stdout",
     "output_type": "stream",
     "text": [
      "Accuracy: 1.00 (+/- 0.00)\n"
     ]
    }
   ],
   "source": [
    "scores = cross_val_score(clf, X, y, cv=5)\n",
    "print(\"Accuracy: %0.2f (+/- %0.2f)\" % (scores.mean(), scores.std() * 2))"
   ]
  },
  {
   "cell_type": "markdown",
   "metadata": {},
   "source": [
    "<h3>HyperParameter Tuning</h3>"
   ]
  },
  {
   "cell_type": "markdown",
   "metadata": {},
   "source": [
    "We use `GridSearchCV` for parameter tuning. This will reduce the accuracy but also make the model generalize better"
   ]
  },
  {
   "cell_type": "code",
   "execution_count": 400,
   "metadata": {},
   "outputs": [],
   "source": [
    "param_grid = {\n",
    "    'criterion':['mse','mae','friedman_mse'],\n",
    "    'splitter':['best','random'],\n",
    "    'max_depth':[2,3,4,5,6,7,8,9,10,11,12],\n",
    "    'min_samples_split':[2,3,4,5,6,7,8,9,10,11,12,13,15],\n",
    "    'max_features':[1,2,3,4,5,6,7,8,9,10,11,12],\n",
    "    'min_samples_leaf':[1,2,3,4,5,6,7,8,9,10]\n",
    "}\n",
    "\n",
    "clf_cv = GridSearchCV(clf,param_grid=param_grid,scoring='neg_mean_squared_error',n_jobs=4,verbose=1)"
   ]
  },
  {
   "cell_type": "code",
   "execution_count": 401,
   "metadata": {
    "scrolled": false
   },
   "outputs": [
    {
     "name": "stdout",
     "output_type": "stream",
     "text": [
      "Fitting 3 folds for each of 102960 candidates, totalling 308880 fits\n"
     ]
    },
    {
     "name": "stderr",
     "output_type": "stream",
     "text": [
      "[Parallel(n_jobs=4)]: Using backend LokyBackend with 4 concurrent workers.\n",
      "[Parallel(n_jobs=4)]: Done 362 tasks      | elapsed:    2.2s\n",
      "[Parallel(n_jobs=4)]: Done 22862 tasks      | elapsed:   15.2s\n",
      "[Parallel(n_jobs=4)]: Done 60362 tasks      | elapsed:   41.7s\n",
      "[Parallel(n_jobs=4)]: Done 111737 tasks      | elapsed:  1.5min\n",
      "[Parallel(n_jobs=4)]: Done 142941 tasks      | elapsed:  2.6min\n",
      "[Parallel(n_jobs=4)]: Done 163291 tasks      | elapsed:  3.4min\n",
      "[Parallel(n_jobs=4)]: Done 187341 tasks      | elapsed:  4.6min\n",
      "[Parallel(n_jobs=4)]: Done 215091 tasks      | elapsed:  5.9min\n",
      "[Parallel(n_jobs=4)]: Done 276733 tasks      | elapsed:  7.0min\n",
      "[Parallel(n_jobs=4)]: Done 308880 out of 308880 | elapsed:  7.5min finished\n"
     ]
    },
    {
     "data": {
      "text/plain": [
       "GridSearchCV(cv='warn', error_score='raise-deprecating',\n",
       "             estimator=DecisionTreeRegressor(criterion='mse', max_depth=None,\n",
       "                                             max_features=None,\n",
       "                                             max_leaf_nodes=None,\n",
       "                                             min_impurity_decrease=0.0,\n",
       "                                             min_impurity_split=None,\n",
       "                                             min_samples_leaf=1,\n",
       "                                             min_samples_split=2,\n",
       "                                             min_weight_fraction_leaf=0.0,\n",
       "                                             presort=False, random_state=0,\n",
       "                                             splitter='best'),\n",
       "             iid='warn', n_jobs=4,\n",
       "             param_grid...riterion': ['mse', 'mae', 'friedman_mse'],\n",
       "                         'max_depth': [2, 3, 4, 5, 6, 7, 8, 9, 10, 11, 12],\n",
       "                         'max_features': [1, 2, 3, 4, 5, 6, 7, 8, 9, 10, 11,\n",
       "                                          12],\n",
       "                         'min_samples_leaf': [1, 2, 3, 4, 5, 6, 7, 8, 9, 10],\n",
       "                         'min_samples_split': [2, 3, 4, 5, 6, 7, 8, 9, 10, 11,\n",
       "                                               12, 13, 15],\n",
       "                         'splitter': ['best', 'random']},\n",
       "             pre_dispatch='2*n_jobs', refit=True, return_train_score=False,\n",
       "             scoring='neg_mean_squared_error', verbose=1)"
      ]
     },
     "execution_count": 401,
     "metadata": {},
     "output_type": "execute_result"
    }
   ],
   "source": [
    "clf_cv.fit(X_train,y_train)"
   ]
  },
  {
   "cell_type": "markdown",
   "metadata": {},
   "source": [
    "<h3>Best parameters according to the Grid Search</h3>"
   ]
  },
  {
   "cell_type": "code",
   "execution_count": 407,
   "metadata": {},
   "outputs": [
    {
     "name": "stdout",
     "output_type": "stream",
     "text": [
      "{'criterion': 'friedman_mse', 'max_depth': 12, 'max_features': 6, 'min_samples_leaf': 2, 'min_samples_split': 9, 'splitter': 'best'}\n"
     ]
    }
   ],
   "source": [
    "print(clf_cv.best_params_)"
   ]
  },
  {
   "cell_type": "markdown",
   "metadata": {},
   "source": [
    "<h3>Best NSME score</h3>"
   ]
  },
  {
   "cell_type": "code",
   "execution_count": 408,
   "metadata": {},
   "outputs": [
    {
     "name": "stdout",
     "output_type": "stream",
     "text": [
      "-0.004922411075406666\n"
     ]
    }
   ],
   "source": [
    "print(clf_cv.best_score_)"
   ]
  },
  {
   "cell_type": "markdown",
   "metadata": {},
   "source": [
    "<h3>The new mean squared error value on the finely tuned model</h3>"
   ]
  },
  {
   "cell_type": "code",
   "execution_count": 409,
   "metadata": {
    "scrolled": true
   },
   "outputs": [
    {
     "data": {
      "text/plain": [
       "0.002217457691714807"
      ]
     },
     "execution_count": 409,
     "metadata": {},
     "output_type": "execute_result"
    }
   ],
   "source": [
    "y_pred = clf_cv.predict(X_test)\n",
    "err_cv = mean_squared_error(y_test,y_pred)\n",
    "err_cv"
   ]
  },
  {
   "cell_type": "markdown",
   "metadata": {},
   "source": [
    "<h2>Conclusion</h2>"
   ]
  },
  {
   "cell_type": "markdown",
   "metadata": {},
   "source": [
    "Through this whole process, we were successful in identifying the key features for our target variable `amount` and their levels of importance. \n",
    "\n",
    "We were able to extract key features already present in the dataset such as `age` and `gender`\n",
    "\n",
    "New features such as `POS`, `POS-Amount`, `PHONE BANK` etc. were extracted from the present dataset which aided as additional features for our machine learning model.\n",
    "\n",
    "The models were carefully scaled and the features were selected in a manner to prevent any form of <b>data leakage</b>. All the features used for modeling can be obtained before predictions in real-world instances as well\n",
    "\n",
    "We were successfull in creating a linear regression model with more than 99% accuracy. Some predictions based off only a single variable were also done and mapped out <b>to identify correlations between the features and the target variable</b>\n",
    "\n",
    "We created a decision tree regressor and tuned its hyperparameters to achieve less than 0.01% MSE (mean squared error)\n",
    "\n",
    "<h3>Can this model be used to segment customers into income brackets for reporting purposes??</h3>\n",
    "\n",
    "As the model achieved very good accuracy with very low scores (below 0.01% MSE), we can use this as a baseline process of segmenting customers into income brackets through accumulating the respective features and predicting the annual salary.\n",
    "\n",
    "<h3>Note: The model does predict logarithmic values of annual salary, we can take the anti-log for the final results</h3>\n",
    "\n",
    "The model can be further enhanced through the addition of more data and also creating voting regressors that merge the results of many different classifiers to achieve even higher performance. We can also employ neural networks to perform this procedure to further improve our results. This can help mitigate unforseen circumstances as well as provide key-insights for <b>further studies such as employee performance, company growth margins, weak sectors etc.</b>\n"
   ]
  }
 ],
 "metadata": {
  "kernelspec": {
   "display_name": "Python 3",
   "language": "python",
   "name": "python3"
  },
  "language_info": {
   "codemirror_mode": {
    "name": "ipython",
    "version": 3
   },
   "file_extension": ".py",
   "mimetype": "text/x-python",
   "name": "python",
   "nbconvert_exporter": "python",
   "pygments_lexer": "ipython3",
   "version": "3.7.4"
  }
 },
 "nbformat": 4,
 "nbformat_minor": 2
}
